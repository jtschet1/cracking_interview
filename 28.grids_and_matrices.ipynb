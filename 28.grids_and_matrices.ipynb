{
 "cells": [
  {
   "cell_type": "markdown",
   "id": "be9a51ff",
   "metadata": {},
   "source": [
    "## Grids and Matrices"
   ]
  },
  {
   "cell_type": "markdown",
   "id": "84864211",
   "metadata": {},
   "source": [
    "### Problem 28.1 Chess Moves"
   ]
  },
  {
   "cell_type": "code",
   "execution_count": 14,
   "id": "279f2e43",
   "metadata": {},
   "outputs": [],
   "source": [
    "king_moves = [[0, 1],[1, 0],[0, -1],[-1, 0],[1, 1],[-1, 1],[1, -1],[-1, -1]]\n",
    "knight_moves = [[2, 1],[2, -1],[-2, 1],[-2, -1],[1, 2],[-1, 2],[1, -2],[-1, -2]]\n",
    "\n",
    "def is_valid(board, r, c):\n",
    "    # print(c, len(board[0]))\n",
    "    return r >= 0 and c >= 0 and r < len(board) and c < len(board[0]) and board[r][c] != 1\n",
    "\n",
    "\n",
    "def chess_moves(board, piece, r, c):\n",
    "    result = []\n",
    "    moves = None\n",
    "    if piece == \"king\" or piece == \"queen\":\n",
    "        moves = king_moves\n",
    "    elif piece == \"knight\":\n",
    "        moves = knight_moves\n",
    "\n",
    "    for move_r, move_c in moves:\n",
    "        new_r = move_r + r\n",
    "        new_c = move_c + r\n",
    "        if piece == \"queen\":\n",
    "            while is_valid(board, new_r, new_c):\n",
    "                result.append([new_r, new_c])\n",
    "                new_r += move_r\n",
    "                new_c += move_c\n",
    "        if is_valid(board, new_r, new_c):\n",
    "            result.append([new_r, new_c])\n",
    "    return result"
   ]
  },
  {
   "cell_type": "code",
   "execution_count": 17,
   "id": "f5337ea6",
   "metadata": {},
   "outputs": [
    {
     "name": "stdout",
     "output_type": "stream",
     "text": [
      "Got: [[3, 4], [4, 3], [4, 4], [4, 2], [2, 2]]. Expected: [[2, 5], [3, 4], [4, 4], [4, 5]].\n",
      "Got: [[2, 5], [5, 2]]. Expected: [[2, 2], [3, 5], [5, 5]].\n",
      "Got: [[4, 5], [5, 4], [4, 3], [4, 2], [4, 1], [4, 0], [3, 4], [5, 5], [3, 5], [5, 3]]. Expected: [[3, 4], [3, 5], [4, 0], [4, 1], [4, 2], [4, 3], [4, 5], [5, 3], [5, 4], [5, 5]].\n"
     ]
    }
   ],
   "source": [
    "board = [[0, 0, 0, 1, 0, 0],\n",
    "         [0, 1, 1, 1, 0, 0],\n",
    "         [0, 1, 0, 1, 1, 0],\n",
    "         [1, 1, 1, 1, 0, 0],\n",
    "         [0, 0, 0, 0, 0, 0],\n",
    "         [0, 1, 0, 0, 0, 0]]\n",
    "piece = \"king\"\n",
    "r = 3\n",
    "c = 5\n",
    "expected = [[2, 5], [3, 4], [4, 4], [4, 5]]\n",
    "result = chess_moves(board, piece, r, c)\n",
    "print(f\"Got: {result}. Expected: {expected}.\")\n",
    "\n",
    "board = [[0, 0, 0, 1, 0, 0],\n",
    "         [0, 1, 1, 1, 0, 0],\n",
    "         [0, 1, 0, 1, 1, 0],\n",
    "         [1, 1, 1, 1, 0, 0],\n",
    "         [0, 0, 0, 0, 0, 0],\n",
    "         [0, 1, 0, 0, 0, 0]]\n",
    "piece = \"knight\"\n",
    "r = 4\n",
    "c = 3\n",
    "expected = [[2, 2], [3, 5], [5, 5]]\n",
    "result = chess_moves(board, piece, r, c)\n",
    "print(f\"Got: {result}. Expected: {expected}.\")\n",
    "\n",
    "board = [[0, 0, 0, 1, 0, 0],\n",
    "         [0, 1, 1, 1, 0, 0],\n",
    "         [0, 1, 0, 1, 1, 0],\n",
    "         [1, 1, 1, 1, 0, 0],\n",
    "         [0, 0, 0, 0, 0, 0],\n",
    "         [0, 1, 0, 0, 0, 0]]\n",
    "piece = \"queen\"\n",
    "r = 4\n",
    "c = 4\n",
    "expected = [[3, 4], [3, 5], [4, 0], [4, 1], [4, 2], [4, 3], [4, 5], [5, 3], [5,4], [5, 5]]\n",
    "result = chess_moves(board, piece, r, c)\n",
    "print(f\"Got: {result}. Expected: {expected}.\")"
   ]
  }
 ],
 "metadata": {
  "kernelspec": {
   "display_name": "Python 3",
   "language": "python",
   "name": "python3"
  },
  "language_info": {
   "codemirror_mode": {
    "name": "ipython",
    "version": 3
   },
   "file_extension": ".py",
   "mimetype": "text/x-python",
   "name": "python",
   "nbconvert_exporter": "python",
   "pygments_lexer": "ipython3",
   "version": "3.10.12"
  }
 },
 "nbformat": 4,
 "nbformat_minor": 5
}
