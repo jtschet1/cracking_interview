{
 "cells": [
  {
   "cell_type": "markdown",
   "id": "be9a51ff",
   "metadata": {},
   "source": [
    "## Grids and Matrices"
   ]
  },
  {
   "cell_type": "markdown",
   "id": "84864211",
   "metadata": {},
   "source": [
    "### Problem 28.1 Chess Moves"
   ]
  },
  {
   "cell_type": "code",
   "execution_count": null,
   "id": "279f2e43",
   "metadata": {},
   "outputs": [],
   "source": [
    "king_moves = [[0, 1],[1, 0],[0, -1],[-1, 0],[1, 1],[-1, 1],[1, -1],[-1, -1]]\n",
    "knight_moves = [[2, 1],[2, -1],[-2, 1],[-2, -1],[1, 2],[-1, 2],[1, -2],[-1, -2]]\n",
    "\n",
    "def is_valid(board, r, c):\n",
    "    # print(c, len(board[0]))\n",
    "    return r >= 0 and c >= 0 and r < len(board) and c < len(board[0]) and board[r][c] != 1\n",
    "\n",
    "\n",
    "def chess_moves(board, piece, r, c):\n",
    "    result = []\n",
    "    moves = None\n",
    "    if piece == \"king\" or piece == \"queen\":\n",
    "        moves = king_moves\n",
    "    elif piece == \"knight\":\n",
    "        moves = knight_moves\n",
    "\n",
    "    for move_r, move_c in moves:\n",
    "        new_r = move_r + r\n",
    "        new_c = move_c + r\n",
    "        if piece == \"queen\":\n",
    "            while is_valid(board, new_r, new_c):\n",
    "                result.append([new_r, new_c])\n",
    "                new_r += move_r\n",
    "                new_c += move_c\n",
    "        if is_valid(board, new_r, new_c):\n",
    "            result.append([new_r, new_c])\n",
    "    return result"
   ]
  },
  {
   "cell_type": "code",
   "execution_count": null,
   "id": "f5337ea6",
   "metadata": {},
   "outputs": [],
   "source": [
    "board = [[0, 0, 0, 1, 0, 0],\n",
    "         [0, 1, 1, 1, 0, 0],\n",
    "         [0, 1, 0, 1, 1, 0],\n",
    "         [1, 1, 1, 1, 0, 0],\n",
    "         [0, 0, 0, 0, 0, 0],\n",
    "         [0, 1, 0, 0, 0, 0]]\n",
    "piece = \"king\"\n",
    "r = 3\n",
    "c = 5\n",
    "expected = [[2, 5], [3, 4], [4, 4], [4, 5]]\n",
    "result = chess_moves(board, piece, r, c)\n",
    "print(f\"Got: {result}. Expected: {expected}.\")\n",
    "\n",
    "board = [[0, 0, 0, 1, 0, 0],\n",
    "         [0, 1, 1, 1, 0, 0],\n",
    "         [0, 1, 0, 1, 1, 0],\n",
    "         [1, 1, 1, 1, 0, 0],\n",
    "         [0, 0, 0, 0, 0, 0],\n",
    "         [0, 1, 0, 0, 0, 0]]\n",
    "piece = \"knight\"\n",
    "r = 4\n",
    "c = 3\n",
    "expected = [[2, 2], [3, 5], [5, 5]]\n",
    "result = chess_moves(board, piece, r, c)\n",
    "print(f\"Got: {result}. Expected: {expected}.\")\n",
    "\n",
    "board = [[0, 0, 0, 1, 0, 0],\n",
    "         [0, 1, 1, 1, 0, 0],\n",
    "         [0, 1, 0, 1, 1, 0],\n",
    "         [1, 1, 1, 1, 0, 0],\n",
    "         [0, 0, 0, 0, 0, 0],\n",
    "         [0, 1, 0, 0, 0, 0]]\n",
    "piece = \"queen\"\n",
    "r = 4\n",
    "c = 4\n",
    "expected = [[3, 4], [3, 5], [4, 0], [4, 1], [4, 2], [4, 3], [4, 5], [5, 3], [5,4], [5, 5]]\n",
    "result = chess_moves(board, piece, r, c)\n",
    "print(f\"Got: {result}. Expected: {expected}.\")"
   ]
  },
  {
   "cell_type": "markdown",
   "id": "d4911091",
   "metadata": {},
   "source": [
    "### Problem 28.2 Queen's Reach"
   ]
  },
  {
   "cell_type": "code",
   "execution_count": null,
   "id": "b8062344",
   "metadata": {},
   "outputs": [],
   "source": [
    "directions = [[1,1],[1,0],[1,-1],[0,-1],[-1,-1],[-1,0],[-1,1],[0,1]]\n",
    "\n",
    "def is_valid(board, r, c):\n",
    "    return 0 <= r < len(board) and 0 <= c < len(board[0]) and board[r][c] != 1\n",
    "\n",
    "def fill_reach(board, r, c, new_board):\n",
    "    for r_dir, c_dir in directions:\n",
    "        new_r = r + r_dir\n",
    "        new_c = c + c_dir\n",
    "        while is_valid(board, new_r, new_c):\n",
    "            new_board[new_r][new_c] = 1\n",
    "            new_r += r_dir\n",
    "            new_c += c_dir\n",
    "\n",
    "def queens_reach(board):\n",
    "    n = len(board)\n",
    "    new_board = [[0] * n for _ in range(n)]\n",
    "    for r in range(len(board)):\n",
    "        for c in range(len(board[r])):\n",
    "            if board[r][c] == 1:\n",
    "                new_board[r][c] = 1\n",
    "                fill_reach(board, r, c, new_board)\n",
    "    return new_board\n"
   ]
  },
  {
   "cell_type": "code",
   "execution_count": null,
   "id": "38d92d93",
   "metadata": {},
   "outputs": [],
   "source": [
    "board = [[0, 0, 0, 1],\n",
    "         [0, 0, 0, 0],\n",
    "         [0, 0, 0, 0],\n",
    "         [1, 0, 0, 0]]\n",
    "expected = [[1, 1, 1, 1],\n",
    "           [1, 0, 1, 1],\n",
    "           [1, 1, 0, 1],\n",
    "           [1, 1, 1, 1]]\n",
    "result = queens_reach(board)\n",
    "is_correct = board == expected\n",
    "print(f\"{is_correct}. Got: {result}. Expected: {expected}.\")\n",
    "\n",
    "board = [[1]]\n",
    "expected = [[1]]\n",
    "result = queens_reach(board)\n",
    "is_correct = board == expected\n",
    "print(f\"{is_correct}. Got: {result}. Expected: {expected}.\")\n",
    "\n",
    "board = [[0]]\n",
    "expected = [[0]]\n",
    "result = queens_reach(board)\n",
    "is_correct = board == expected\n",
    "print(f\"{is_correct}. Got: {result}. Expected: {expected}.\")"
   ]
  },
  {
   "cell_type": "code",
   "execution_count": null,
   "id": "10510717",
   "metadata": {},
   "outputs": [],
   "source": []
  }
 ],
 "metadata": {
  "kernelspec": {
   "display_name": "Python 3",
   "language": "python",
   "name": "python3"
  },
  "language_info": {
   "codemirror_mode": {
    "name": "ipython",
    "version": 3
   },
   "file_extension": ".py",
   "mimetype": "text/x-python",
   "name": "python",
   "nbconvert_exporter": "python",
   "pygments_lexer": "ipython3",
   "version": "3.10.12"
  }
 },
 "nbformat": 4,
 "nbformat_minor": 5
}
