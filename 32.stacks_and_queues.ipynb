{
 "cells": [
  {
   "cell_type": "markdown",
   "id": "59e529a9",
   "metadata": {},
   "source": [
    "### Problem 32.1 Compress Array"
   ]
  },
  {
   "cell_type": "code",
   "execution_count": 13,
   "id": "a5dc9dc6",
   "metadata": {},
   "outputs": [],
   "source": [
    "def compress_array(arr):\n",
    "    stack = []\n",
    "    for num in arr:\n",
    "        while stack and stack[-1] == num:\n",
    "            num += stack.pop()\n",
    "        stack.append(num)\n",
    "        # print(stack)\n",
    "    return stack"
   ]
  },
  {
   "cell_type": "code",
   "execution_count": 14,
   "id": "90bcb36a",
   "metadata": {},
   "outputs": [
    {
     "name": "stdout",
     "output_type": "stream",
     "text": [
      "True. Expected: [16, 2, 4]. Got [16, 2, 4]\n",
      "True. Expected: [16]. Got [16]\n",
      "True. Expected: [1, 2, 3, 4]. Got [1, 2, 3, 4]\n",
      "False. Expected: [16, 2, 4]. Got [16, 2, 4, 8]\n"
     ]
    }
   ],
   "source": [
    "arr = [8, 4, 2, 2, 2, 4]\n",
    "expected = [16, 2, 4]\n",
    "result = compress_array(arr)\n",
    "print(f\"{expected==result}. Expected: {expected}. Got {result}\")\n",
    "\n",
    "arr = [4, 4, 4, 4]\n",
    "expected = [16]\n",
    "result = compress_array(arr)\n",
    "print(f\"{expected==result}. Expected: {expected}. Got {result}\")\n",
    "\n",
    "arr = [1, 2, 3, 4]\n",
    "expected = [1, 2, 3, 4]\n",
    "result = compress_array(arr)\n",
    "print(f\"{expected==result}. Expected: {expected}. Got {result}\")\n",
    "\n",
    "arr = [8, 4, 2, 1, 1, 2, 4, 8]\n",
    "expected = [16, 2, 4]\n",
    "result = compress_array(arr)\n",
    "print(f\"{expected==result}. Expected: {expected}. Got {result}\")"
   ]
  },
  {
   "cell_type": "markdown",
   "id": "84ef522a",
   "metadata": {},
   "source": [
    "### Problem 32.2 Compress Array By K"
   ]
  },
  {
   "cell_type": "code",
   "execution_count": 23,
   "id": "23acba5d",
   "metadata": {},
   "outputs": [],
   "source": [
    "def compress_array_by_k(arr, k):\n",
    "    # stack of tuples, showing the current value and the number of times in a row that value is found\n",
    "    stack = []\n",
    "\n",
    "    def merge(num):\n",
    "        if not stack or stack[-1][0] != num: # if the last element is not the same as the current value, start the count over\n",
    "            stack.append([num, 1])\n",
    "        elif stack[-1][1] < k-1: # if we get this far, we know that the top element of the stack is the current value, but in this case, we don't have enough in a row to compress, so we increment\n",
    "            stack[-1][1] += 1\n",
    "        else: # in this case, we know we need to compress, but then we need to check if the compression warrents another compression, so we pop and then recursively call merge\n",
    "            stack.pop()\n",
    "            merge(num*k)\n",
    "            \n",
    "\n",
    "    \n",
    "    for num in arr:\n",
    "        merge(num)\n",
    "    \n",
    "    res = []\n",
    "    for val, count in stack:\n",
    "        for _ in range(count):\n",
    "            res.append(val)\n",
    "    return res"
   ]
  },
  {
   "cell_type": "code",
   "execution_count": 24,
   "id": "7c0c3d77",
   "metadata": {},
   "outputs": [
    {
     "name": "stdout",
     "output_type": "stream",
     "text": [
      "True. Expected: [1, 27, 4]. Got [1, 27, 4]\n",
      "True. Expected: [16]. Got [16]\n",
      "True. Expected: [4, 4, 4, 4]. Got [4, 4, 4, 4]\n"
     ]
    }
   ],
   "source": [
    "arr = [1, 9, 9, 3, 3, 3, 4]\n",
    "k = 3\n",
    "expected = [1, 27, 4]\n",
    "result = compress_array_by_k(arr, k)\n",
    "print(f\"{expected==result}. Expected: {expected}. Got {result}\")\n",
    "\n",
    "arr = [8, 4, 2, 2]\n",
    "k = 2\n",
    "expected = [16]\n",
    "result = compress_array_by_k(arr, k)\n",
    "print(f\"{expected==result}. Expected: {expected}. Got {result}\")\n",
    "\n",
    "arr = [4, 4, 4, 4]\n",
    "k = 5\n",
    "expected = [4, 4, 4, 4]\n",
    "result = compress_array_by_k(arr, k)\n",
    "print(f\"{expected==result}. Expected: {expected}. Got {result}\")"
   ]
  },
  {
   "cell_type": "markdown",
   "id": "172051a9",
   "metadata": {},
   "source": [
    "### Problem 32.3 Viewer Counter Class"
   ]
  },
  {
   "cell_type": "code",
   "execution_count": null,
   "id": "a4ca7ce6",
   "metadata": {},
   "outputs": [],
   "source": [
    "class ViewerCounter():\n",
    "    def __init__(self, window):\n",
    "        self.window = window\n",
    "        self.viewers = []\n",
    "    \n",
    "    def join(self, time, viewer_type):\n",
    "        self.viewers.append([time, viewer_type])\n",
    "\n",
    "    def get_viewers(self, time, viewer_type):\n",
    "        i = len(self.viewers)-1\n",
    "        count = 0\n",
    "        while i >= 0 and self.viewers[i][0] >= time - self.window:\n",
    "            if self.viewers[i][1] == viewer_type:\n",
    "                count += 1\n",
    "            i -= 1\n",
    "        print(count)\n",
    "    \n",
    "class BucketViewerCounter():\n",
    "    def __init__(self, window):\n",
    "        self.window = window\n",
    "        self.viewer_type_pos = {\n",
    "            \"guest\":0,\n",
    "            \"follower\":1,\n",
    "            \"subscriber\":2,\n",
    "        }\n",
    "        self.viewers = [\n",
    "            [0,0,0] for _ in range(1, 10**5)\n",
    "        ]\n",
    "        self.total_viewers = [0,0,0]\n",
    "    \n",
    "    def join(self, time, viewer_type):\n",
    "        pos = self.viewer_type_pos[viewer_type]\n",
    "        self.viewers[time][pos] += 1\n",
    "        self.total_viewers[pos] += 1\n",
    "\n",
    "    def get_viewers(self, time, viewer_type):\n",
    "        pos = self.viewer_type_pos[viewer_type]\n",
    "        print(self.total_viewers[pos] - self.viewers[time-self.window-1][pos])\n",
    "\n",
    "class QueueViewerCounter():\n",
    "    def __init__(self, window):\n",
    "        self.window = window\n",
    "        self.queues = {\"guest\": Queue(), \"follower\": Queue(), \"subscriber\": Queue()}\n",
    "\n",
    "    def join(self, time, viewer_type):\n",
    "        self.queues[viewer_type].append(time)\n",
    "\n",
    "    def get_viewers(self, time, viewer_type):\n",
    "        queue = self.queues[viewer_type]\n",
    "        while queue and queue[0] < time - self.window:\n",
    "            queue.pop()\n",
    "        return len(queue)"
   ]
  },
  {
   "cell_type": "code",
   "execution_count": 17,
   "id": "82be3e85",
   "metadata": {},
   "outputs": [
    {
     "name": "stdout",
     "output_type": "stream",
     "text": [
      "1\n",
      "1\n",
      "4\n",
      "1\n",
      "\n",
      "\n",
      "1\n",
      "1\n",
      "4\n",
      "1\n"
     ]
    }
   ],
   "source": [
    "counter = ViewerCounter(10)\n",
    "counter.join(1, \"subscriber\")\n",
    "counter.join(1, \"guest\")\n",
    "counter.join(2, \"follower\")\n",
    "counter.join(2, \"follower\")\n",
    "counter.join(2, \"follower\")\n",
    "counter.join(3, \"follower\")\n",
    "counter.get_viewers(10, \"subscriber\")  # Returns 1\n",
    "counter.get_viewers(10, \"guest\")       # Returns 1\n",
    "counter.get_viewers(10, \"follower\")    # Returns 4\n",
    "counter.get_viewers(13, \"follower\")    # Returns 1\n",
    "\n",
    "print('\\n')\n",
    "\n",
    "counter = BucketViewerCounter(10)\n",
    "counter.join(1, \"subscriber\")\n",
    "counter.join(1, \"guest\")\n",
    "counter.join(2, \"follower\")\n",
    "counter.join(2, \"follower\")\n",
    "counter.join(2, \"follower\")\n",
    "counter.join(3, \"follower\")\n",
    "counter.get_viewers(10, \"subscriber\")  # Returns 1\n",
    "counter.get_viewers(10, \"guest\")       # Returns 1\n",
    "counter.get_viewers(10, \"follower\")    # Returns 4\n",
    "counter.get_viewers(13, \"follower\")    # Returns 1"
   ]
  },
  {
   "cell_type": "markdown",
   "id": "f827ecff",
   "metadata": {},
   "source": [
    "### Problem 32.4 Current Url"
   ]
  },
  {
   "cell_type": "code",
   "execution_count": 21,
   "id": "4f46a81b",
   "metadata": {},
   "outputs": [],
   "source": [
    "def current_url(actions):\n",
    "    urls = []\n",
    "    for action, value in actions:\n",
    "        if action == \"go\":\n",
    "            urls.append(value)\n",
    "        if action == \"back\":\n",
    "            while len(urls) > 1 and value > 0:\n",
    "                value -= 1\n",
    "                urls.pop()\n",
    "    return urls[-1]"
   ]
  },
  {
   "cell_type": "code",
   "execution_count": 22,
   "id": "600d49dd",
   "metadata": {},
   "outputs": [
    {
     "name": "stdout",
     "output_type": "stream",
     "text": [
      "True. Expected: youtube.com. Got youtube.com\n"
     ]
    }
   ],
   "source": [
    "actions = [[\"go\", \"google.com\"],\n",
    "           [\"go\", \"wikipedia.com\"],\n",
    "           [\"go\", \"amazon.com\"],\n",
    "           [\"back\", 4],\n",
    "           [\"go\", \"youtube.com\"],\n",
    "           [\"go\", \"netflix.com\"],\n",
    "           [\"back\", 1]]\n",
    "expected = \"youtube.com\"\n",
    "result = current_url(actions)\n",
    "print(f\"{expected==result}. Expected: {expected}. Got {result}\")"
   ]
  },
  {
   "cell_type": "markdown",
   "id": "befb352b",
   "metadata": {},
   "source": [
    "### Problem 32.5 Current Url with Forward"
   ]
  },
  {
   "cell_type": "code",
   "execution_count": null,
   "id": "eaaab1bb",
   "metadata": {},
   "outputs": [],
   "source": [
    "def current_url_with_forward(actions):\n",
    "    urls = []\n",
    "    forward_urls = []\n",
    "\n",
    "    for action, value in actions:\n",
    "        if action == \"go\":\n",
    "            urls.append(value)\n",
    "            forward_urls = []\n",
    "        elif action == \"back\":\n",
    "            while len(urls) > 1 and value > 0:\n",
    "                value -= 1\n",
    "                forward_urls.append(urls.pop())\n",
    "        elif action == \"forward\":\n",
    "            while len(forward_urls) > 0 and value > 0:\n",
    "                urls.append(forward_urls.pop())\n",
    "                value -= 1\n",
    "    \n",
    "    return urls[-1]"
   ]
  },
  {
   "cell_type": "code",
   "execution_count": 31,
   "id": "75f0a5ea",
   "metadata": {},
   "outputs": [
    {
     "name": "stdout",
     "output_type": "stream",
     "text": [
      "True. Expected: netflix.com. Got netflix.com\n"
     ]
    }
   ],
   "source": [
    "actions = [[\"go\", \"google.com\"],\n",
    "           [\"go\", \"wikipedia.com\"],\n",
    "           [\"back\", 1],\n",
    "           [\"forward\", 1],\n",
    "           [\"back\", 3],\n",
    "           [\"go\", \"netflix.com\"],\n",
    "           [\"forward\", 3]]\n",
    "expected = \"netflix.com\"\n",
    "result = current_url_with_forward(actions)\n",
    "print(f\"{expected==result}. Expected: {expected}. Got {result}\")"
   ]
  }
 ],
 "metadata": {
  "kernelspec": {
   "display_name": "3.12.10",
   "language": "python",
   "name": "python3"
  },
  "language_info": {
   "codemirror_mode": {
    "name": "ipython",
    "version": 3
   },
   "file_extension": ".py",
   "mimetype": "text/x-python",
   "name": "python",
   "nbconvert_exporter": "python",
   "pygments_lexer": "ipython3",
   "version": "3.12.10"
  }
 },
 "nbformat": 4,
 "nbformat_minor": 5
}
