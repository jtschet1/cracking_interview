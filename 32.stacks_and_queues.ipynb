{
 "cells": [
  {
   "cell_type": "markdown",
   "id": "59e529a9",
   "metadata": {},
   "source": [
    "### Problem 32.1 Compress Array"
   ]
  },
  {
   "cell_type": "code",
   "execution_count": 13,
   "id": "a5dc9dc6",
   "metadata": {},
   "outputs": [],
   "source": [
    "def compress_array(arr):\n",
    "    stack = []\n",
    "    for num in arr:\n",
    "        while stack and stack[-1] == num:\n",
    "            num += stack.pop()\n",
    "        stack.append(num)\n",
    "        # print(stack)\n",
    "    return stack"
   ]
  },
  {
   "cell_type": "code",
   "execution_count": 14,
   "id": "90bcb36a",
   "metadata": {},
   "outputs": [
    {
     "name": "stdout",
     "output_type": "stream",
     "text": [
      "True. Expected: [16, 2, 4]. Got [16, 2, 4]\n",
      "True. Expected: [16]. Got [16]\n",
      "True. Expected: [1, 2, 3, 4]. Got [1, 2, 3, 4]\n",
      "False. Expected: [16, 2, 4]. Got [16, 2, 4, 8]\n"
     ]
    }
   ],
   "source": [
    "arr = [8, 4, 2, 2, 2, 4]\n",
    "expected = [16, 2, 4]\n",
    "result = compress_array(arr)\n",
    "print(f\"{expected==result}. Expected: {expected}. Got {result}\")\n",
    "\n",
    "arr = [4, 4, 4, 4]\n",
    "expected = [16]\n",
    "result = compress_array(arr)\n",
    "print(f\"{expected==result}. Expected: {expected}. Got {result}\")\n",
    "\n",
    "arr = [1, 2, 3, 4]\n",
    "expected = [1, 2, 3, 4]\n",
    "result = compress_array(arr)\n",
    "print(f\"{expected==result}. Expected: {expected}. Got {result}\")\n",
    "\n",
    "arr = [8, 4, 2, 1, 1, 2, 4, 8]\n",
    "expected = [16, 2, 4]\n",
    "result = compress_array(arr)\n",
    "print(f\"{expected==result}. Expected: {expected}. Got {result}\")"
   ]
  },
  {
   "cell_type": "markdown",
   "id": "84ef522a",
   "metadata": {},
   "source": [
    "### Problem 32.2 Compress Array By K"
   ]
  },
  {
   "cell_type": "code",
   "execution_count": 23,
   "id": "23acba5d",
   "metadata": {},
   "outputs": [],
   "source": [
    "def compress_array_by_k(arr, k):\n",
    "    # stack of tuples, showing the current value and the number of times in a row that value is found\n",
    "    stack = []\n",
    "\n",
    "    def merge(num):\n",
    "        if not stack or stack[-1][0] != num: # if the last element is not the same as the current value, start the count over\n",
    "            stack.append([num, 1])\n",
    "        elif stack[-1][1] < k-1: # if we get this far, we know that the top element of the stack is the current value, but in this case, we don't have enough in a row to compress, so we increment\n",
    "            stack[-1][1] += 1\n",
    "        else: # in this case, we know we need to compress, but then we need to check if the compression warrents another compression, so we pop and then recursively call merge\n",
    "            stack.pop()\n",
    "            merge(num*k)\n",
    "            \n",
    "\n",
    "    \n",
    "    for num in arr:\n",
    "        merge(num)\n",
    "    \n",
    "    res = []\n",
    "    for val, count in stack:\n",
    "        for _ in range(count):\n",
    "            res.append(val)\n",
    "    return res"
   ]
  },
  {
   "cell_type": "code",
   "execution_count": 24,
   "id": "7c0c3d77",
   "metadata": {},
   "outputs": [
    {
     "name": "stdout",
     "output_type": "stream",
     "text": [
      "True. Expected: [1, 27, 4]. Got [1, 27, 4]\n",
      "True. Expected: [16]. Got [16]\n",
      "True. Expected: [4, 4, 4, 4]. Got [4, 4, 4, 4]\n"
     ]
    }
   ],
   "source": [
    "arr = [1, 9, 9, 3, 3, 3, 4]\n",
    "k = 3\n",
    "expected = [1, 27, 4]\n",
    "result = compress_array_by_k(arr, k)\n",
    "print(f\"{expected==result}. Expected: {expected}. Got {result}\")\n",
    "\n",
    "arr = [8, 4, 2, 2]\n",
    "k = 2\n",
    "expected = [16]\n",
    "result = compress_array_by_k(arr, k)\n",
    "print(f\"{expected==result}. Expected: {expected}. Got {result}\")\n",
    "\n",
    "arr = [4, 4, 4, 4]\n",
    "k = 5\n",
    "expected = [4, 4, 4, 4]\n",
    "result = compress_array_by_k(arr, k)\n",
    "print(f\"{expected==result}. Expected: {expected}. Got {result}\")"
   ]
  }
 ],
 "metadata": {
  "kernelspec": {
   "display_name": "3.12.10",
   "language": "python",
   "name": "python3"
  },
  "language_info": {
   "codemirror_mode": {
    "name": "ipython",
    "version": 3
   },
   "file_extension": ".py",
   "mimetype": "text/x-python",
   "name": "python",
   "nbconvert_exporter": "python",
   "pygments_lexer": "ipython3",
   "version": "3.12.10"
  }
 },
 "nbformat": 4,
 "nbformat_minor": 5
}
