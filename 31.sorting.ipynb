{
 "cells": [
  {
   "cell_type": "markdown",
   "id": "7437cb70",
   "metadata": {},
   "source": [
    "## Problem 31.1 Sorting"
   ]
  },
  {
   "cell_type": "code",
   "execution_count": 35,
   "id": "06d00c20",
   "metadata": {},
   "outputs": [],
   "source": [
    "def sort_by_freq(word):\n",
    "    freq = {}\n",
    "    # get frequencies, O(n) time\n",
    "    for c in word:\n",
    "        if c not in freq:\n",
    "            freq[c] = 0\n",
    "        freq[c] += 1\n",
    "    # print(freq)\n",
    "\n",
    "    tuples = []\n",
    "    for key, value in freq.items():\n",
    "        tuples.append((value, key))\n",
    "    tuples = sorted(tuples, key=lambda x: (-x[0], x[1]))\n",
    "    # print(tuples)\n",
    "\n",
    "    res = []\n",
    "    for _, c in tuples:\n",
    "        res.append(c)\n",
    "    \n",
    "    return res"
   ]
  },
  {
   "cell_type": "code",
   "execution_count": 36,
   "id": "e55c8d94",
   "metadata": {},
   "outputs": [
    {
     "name": "stdout",
     "output_type": "stream",
     "text": [
      "True. Expected ['i', 'a', 'c', 'l', 's', 'e', 'o', 'p', 'r', 'u', 'd', 'f', 'g', 't', 'x']. Got ['i', 'a', 'c', 'l', 's', 'e', 'o', 'p', 'r', 'u', 'd', 'f', 'g', 't', 'x']\n",
      "True. Expected ['c', 'b', 'a']. Got ['c', 'b', 'a']\n",
      "True. Expected ['a', 'b', 'c']. Got ['a', 'b', 'c']\n"
     ]
    }
   ],
   "source": [
    "word = \"supercalifragilisticexpialidocious\"\n",
    "expected = ['i', 'a', 'c', 'l', 's', 'e', 'o', 'p', 'r', 'u', 'd', 'f', 'g', 't',\n",
    "'x']\n",
    "result = sort_by_freq(word)\n",
    "print(f\"{result==expected}. Expected {expected}. Got {result}\")\n",
    "\n",
    "word = \"aabbbcccc\"\n",
    "expected = ['c', 'b', 'a']\n",
    "result = sort_by_freq(word)\n",
    "print(f\"{result==expected}. Expected {expected}. Got {result}\")\n",
    "\n",
    "word = \"abc\"\n",
    "expected = ['a', 'b', 'c']\n",
    "result = sort_by_freq(word)\n",
    "print(f\"{result==expected}. Expected {expected}. Got {result}\")"
   ]
  }
 ],
 "metadata": {
  "kernelspec": {
   "display_name": "3.12.10",
   "language": "python",
   "name": "python3"
  },
  "language_info": {
   "codemirror_mode": {
    "name": "ipython",
    "version": 3
   },
   "file_extension": ".py",
   "mimetype": "text/x-python",
   "name": "python",
   "nbconvert_exporter": "python",
   "pygments_lexer": "ipython3",
   "version": "3.12.10"
  }
 },
 "nbformat": 4,
 "nbformat_minor": 5
}
