{
 "cells": [
  {
   "cell_type": "markdown",
   "id": "7437cb70",
   "metadata": {},
   "source": [
    "## Problem 31.1 Sorting"
   ]
  },
  {
   "cell_type": "code",
   "execution_count": 35,
   "id": "06d00c20",
   "metadata": {},
   "outputs": [],
   "source": [
    "def sort_by_freq(word):\n",
    "    freq = {}\n",
    "    # get frequencies, O(n) time\n",
    "    for c in word:\n",
    "        if c not in freq:\n",
    "            freq[c] = 0\n",
    "        freq[c] += 1\n",
    "    # print(freq)\n",
    "\n",
    "    tuples = []\n",
    "    for key, value in freq.items():\n",
    "        tuples.append((value, key))\n",
    "    tuples = sorted(tuples, key=lambda x: (-x[0], x[1]))\n",
    "    # print(tuples)\n",
    "\n",
    "    res = []\n",
    "    for _, c in tuples:\n",
    "        res.append(c)\n",
    "    \n",
    "    return res"
   ]
  },
  {
   "cell_type": "code",
   "execution_count": 36,
   "id": "e55c8d94",
   "metadata": {},
   "outputs": [
    {
     "name": "stdout",
     "output_type": "stream",
     "text": [
      "True. Expected ['i', 'a', 'c', 'l', 's', 'e', 'o', 'p', 'r', 'u', 'd', 'f', 'g', 't', 'x']. Got ['i', 'a', 'c', 'l', 's', 'e', 'o', 'p', 'r', 'u', 'd', 'f', 'g', 't', 'x']\n",
      "True. Expected ['c', 'b', 'a']. Got ['c', 'b', 'a']\n",
      "True. Expected ['a', 'b', 'c']. Got ['a', 'b', 'c']\n"
     ]
    }
   ],
   "source": [
    "word = \"supercalifragilisticexpialidocious\"\n",
    "expected = ['i', 'a', 'c', 'l', 's', 'e', 'o', 'p', 'r', 'u', 'd', 'f', 'g', 't',\n",
    "'x']\n",
    "result = sort_by_freq(word)\n",
    "print(f\"{result==expected}. Expected {expected}. Got {result}\")\n",
    "\n",
    "word = \"aabbbcccc\"\n",
    "expected = ['c', 'b', 'a']\n",
    "result = sort_by_freq(word)\n",
    "print(f\"{result==expected}. Expected {expected}. Got {result}\")\n",
    "\n",
    "word = \"abc\"\n",
    "expected = ['a', 'b', 'c']\n",
    "result = sort_by_freq(word)\n",
    "print(f\"{result==expected}. Expected {expected}. Got {result}\")"
   ]
  },
  {
   "cell_type": "markdown",
   "id": "866055db",
   "metadata": {},
   "source": [
    "## Problem 31.2 Nested Circles"
   ]
  },
  {
   "cell_type": "code",
   "execution_count": 24,
   "id": "6b83c2d5",
   "metadata": {},
   "outputs": [],
   "source": [
    "import math\n",
    "'''\n",
    "\n",
    "5, 5: 5 = 5, 10\n",
    "5, 5: 4 = 5, 9\n",
    "5, 7: 4 = 5, 11\n",
    "\n",
    "'''\n",
    "\n",
    "def is_in_bounds(large_circle, small_circle):\n",
    "    # get distance between the two centers of the circle\n",
    "    large_center, large_radius = large_circle\n",
    "    small_center, small_radius = small_circle\n",
    "\n",
    "    # a^2 + b^2 = c^2 -> c = sqrt(a^2 + b^2)\n",
    "    # c                                         a                                      b\n",
    "    centers_distance = math.sqrt((large_center[0]-small_center[0])**2 + (large_center[1]-small_center[1])**2)\n",
    "    \n",
    "    return centers_distance + small_radius < large_radius\n",
    "\n",
    "    \n",
    "\n",
    "def nested_circles(circles):\n",
    "    if len(circles) < 2:\n",
    "        return True\n",
    "    \n",
    "    # O (nlogn)\n",
    "    circles = sorted(circles, key=lambda x: (-x[1]))\n",
    "    # or circles.sort(key=lambda x: x[1], reverse=True)\n",
    "    # print(circles)\n",
    "\n",
    "    for i in range(1, len(circles)):\n",
    "        if not is_in_bounds(circles[i-1], circles[i]):\n",
    "            return False\n",
    "    return True"
   ]
  },
  {
   "cell_type": "code",
   "execution_count": 25,
   "id": "c46b289e",
   "metadata": {},
   "outputs": [
    {
     "name": "stdout",
     "output_type": "stream",
     "text": [
      "True. Expected False. Got False\n",
      "True. Expected True. Got True\n",
      "True. Expected True. Got True\n"
     ]
    }
   ],
   "source": [
    "circles = [\n",
    "    ((4, 4), 5),\n",
    "    ((8, 4), 2)\n",
    "]\n",
    "expected = False\n",
    "result = nested_circles(circles)\n",
    "print(f\"{result==expected}. Expected {expected}. Got {result}\")\n",
    "\n",
    "circles = [\n",
    "    ((5, 3), 3),\n",
    "    ((5, 3), 2),\n",
    "    ((4, 4), 5)\n",
    "]\n",
    "expected = True\n",
    "result = nested_circles(circles)\n",
    "print(f\"{result==expected}. Expected {expected}. Got {result}\")\n",
    "\n",
    "circles = [((5, 3), 3)]\n",
    "expected = True\n",
    "result = nested_circles(circles)\n",
    "print(f\"{result==expected}. Expected {expected}. Got {result}\")"
   ]
  }
 ],
 "metadata": {
  "kernelspec": {
   "display_name": "3.12.10",
   "language": "python",
   "name": "python3"
  },
  "language_info": {
   "codemirror_mode": {
    "name": "ipython",
    "version": 3
   },
   "file_extension": ".py",
   "mimetype": "text/x-python",
   "name": "python",
   "nbconvert_exporter": "python",
   "pygments_lexer": "ipython3",
   "version": "3.12.10"
  }
 },
 "nbformat": 4,
 "nbformat_minor": 5
}
