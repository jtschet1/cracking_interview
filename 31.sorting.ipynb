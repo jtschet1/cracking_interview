{
 "cells": [
  {
   "cell_type": "markdown",
   "id": "7437cb70",
   "metadata": {},
   "source": [
    "### Problem 31.1 Sorting"
   ]
  },
  {
   "cell_type": "code",
   "execution_count": 35,
   "id": "06d00c20",
   "metadata": {},
   "outputs": [],
   "source": [
    "def sort_by_freq(word):\n",
    "    freq = {}\n",
    "    # get frequencies, O(n) time\n",
    "    for c in word:\n",
    "        if c not in freq:\n",
    "            freq[c] = 0\n",
    "        freq[c] += 1\n",
    "    # print(freq)\n",
    "\n",
    "    tuples = []\n",
    "    for key, value in freq.items():\n",
    "        tuples.append((value, key))\n",
    "    tuples = sorted(tuples, key=lambda x: (-x[0], x[1]))\n",
    "    # print(tuples)\n",
    "\n",
    "    res = []\n",
    "    for _, c in tuples:\n",
    "        res.append(c)\n",
    "    \n",
    "    return res"
   ]
  },
  {
   "cell_type": "code",
   "execution_count": 36,
   "id": "e55c8d94",
   "metadata": {},
   "outputs": [
    {
     "name": "stdout",
     "output_type": "stream",
     "text": [
      "True. Expected ['i', 'a', 'c', 'l', 's', 'e', 'o', 'p', 'r', 'u', 'd', 'f', 'g', 't', 'x']. Got ['i', 'a', 'c', 'l', 's', 'e', 'o', 'p', 'r', 'u', 'd', 'f', 'g', 't', 'x']\n",
      "True. Expected ['c', 'b', 'a']. Got ['c', 'b', 'a']\n",
      "True. Expected ['a', 'b', 'c']. Got ['a', 'b', 'c']\n"
     ]
    }
   ],
   "source": [
    "word = \"supercalifragilisticexpialidocious\"\n",
    "expected = ['i', 'a', 'c', 'l', 's', 'e', 'o', 'p', 'r', 'u', 'd', 'f', 'g', 't',\n",
    "'x']\n",
    "result = sort_by_freq(word)\n",
    "print(f\"{result==expected}. Expected {expected}. Got {result}\")\n",
    "\n",
    "word = \"aabbbcccc\"\n",
    "expected = ['c', 'b', 'a']\n",
    "result = sort_by_freq(word)\n",
    "print(f\"{result==expected}. Expected {expected}. Got {result}\")\n",
    "\n",
    "word = \"abc\"\n",
    "expected = ['a', 'b', 'c']\n",
    "result = sort_by_freq(word)\n",
    "print(f\"{result==expected}. Expected {expected}. Got {result}\")"
   ]
  },
  {
   "cell_type": "markdown",
   "id": "866055db",
   "metadata": {},
   "source": [
    "### Problem 31.2 Nested Circles"
   ]
  },
  {
   "cell_type": "code",
   "execution_count": 24,
   "id": "6b83c2d5",
   "metadata": {},
   "outputs": [],
   "source": [
    "import math\n",
    "'''\n",
    "\n",
    "5, 5: 5 = 5, 10\n",
    "5, 5: 4 = 5, 9\n",
    "5, 7: 4 = 5, 11\n",
    "\n",
    "'''\n",
    "\n",
    "def is_in_bounds(large_circle, small_circle):\n",
    "    # get distance between the two centers of the circle\n",
    "    large_center, large_radius = large_circle\n",
    "    small_center, small_radius = small_circle\n",
    "\n",
    "    # a^2 + b^2 = c^2 -> c = sqrt(a^2 + b^2)\n",
    "    # c                                         a                                      b\n",
    "    centers_distance = math.sqrt((large_center[0]-small_center[0])**2 + (large_center[1]-small_center[1])**2)\n",
    "    \n",
    "    return centers_distance + small_radius < large_radius\n",
    "\n",
    "    \n",
    "\n",
    "def nested_circles(circles):\n",
    "    if len(circles) < 2:\n",
    "        return True\n",
    "    \n",
    "    # O (nlogn)\n",
    "    circles = sorted(circles, key=lambda x: (-x[1]))\n",
    "    # or circles.sort(key=lambda x: x[1], reverse=True)\n",
    "    # print(circles)\n",
    "\n",
    "    for i in range(1, len(circles)):\n",
    "        if not is_in_bounds(circles[i-1], circles[i]):\n",
    "            return False\n",
    "    return True"
   ]
  },
  {
   "cell_type": "code",
   "execution_count": 25,
   "id": "c46b289e",
   "metadata": {},
   "outputs": [
    {
     "name": "stdout",
     "output_type": "stream",
     "text": [
      "True. Expected False. Got False\n",
      "True. Expected True. Got True\n",
      "True. Expected True. Got True\n"
     ]
    }
   ],
   "source": [
    "circles = [\n",
    "    ((4, 4), 5),\n",
    "    ((8, 4), 2)\n",
    "]\n",
    "expected = False\n",
    "result = nested_circles(circles)\n",
    "print(f\"{result==expected}. Expected {expected}. Got {result}\")\n",
    "\n",
    "circles = [\n",
    "    ((5, 3), 3),\n",
    "    ((5, 3), 2),\n",
    "    ((4, 4), 5)\n",
    "]\n",
    "expected = True\n",
    "result = nested_circles(circles)\n",
    "print(f\"{result==expected}. Expected {expected}. Got {result}\")\n",
    "\n",
    "circles = [((5, 3), 3)]\n",
    "expected = True\n",
    "result = nested_circles(circles)\n",
    "print(f\"{result==expected}. Expected {expected}. Got {result}\")"
   ]
  },
  {
   "cell_type": "markdown",
   "id": "39e63337",
   "metadata": {},
   "source": [
    "### Pronlem 31.3 Delete Operations"
   ]
  },
  {
   "cell_type": "code",
   "execution_count": null,
   "id": "a2c2ee9b",
   "metadata": {},
   "outputs": [],
   "source": [
    "def delete_operations(nums: list, operations):\n",
    "    org_nums = nums[:]\n",
    "    for op in operations:\n",
    "        if op >= 0:\n",
    "            nums.remove(op)\n",
    "        else:\n",
    "            smallest = nums[0]\n",
    "            for i in nums:\n",
    "                smallest = min(i, smallest)\n",
    "            nums.remove(smallest)\n",
    "    return nums"
   ]
  },
  {
   "cell_type": "code",
   "execution_count": 3,
   "id": "945234bb",
   "metadata": {},
   "outputs": [
    {
     "ename": "IndexError",
     "evalue": "pop index out of range",
     "output_type": "error",
     "traceback": [
      "\u001b[31m---------------------------------------------------------------------------\u001b[39m",
      "\u001b[31mIndexError\u001b[39m                                Traceback (most recent call last)",
      "\u001b[36mCell\u001b[39m\u001b[36m \u001b[39m\u001b[32mIn[3]\u001b[39m\u001b[32m, line 4\u001b[39m\n\u001b[32m      2\u001b[39m operations = [\u001b[32m2\u001b[39m, -\u001b[32m1\u001b[39m, \u001b[32m4\u001b[39m, -\u001b[32m1\u001b[39m]\n\u001b[32m      3\u001b[39m expected = [\u001b[32m50\u001b[39m]\n\u001b[32m----> \u001b[39m\u001b[32m4\u001b[39m result = \u001b[43mdelete_operations\u001b[49m\u001b[43m(\u001b[49m\u001b[43mnums\u001b[49m\u001b[43m,\u001b[49m\u001b[43m \u001b[49m\u001b[43moperations\u001b[49m\u001b[43m)\u001b[49m\n\u001b[32m      5\u001b[39m \u001b[38;5;28mprint\u001b[39m(\u001b[33mf\u001b[39m\u001b[33m\"\u001b[39m\u001b[38;5;132;01m{\u001b[39;00mresult==expected\u001b[38;5;132;01m}\u001b[39;00m\u001b[33m. Expected \u001b[39m\u001b[38;5;132;01m{\u001b[39;00mexpected\u001b[38;5;132;01m}\u001b[39;00m\u001b[33m. Got \u001b[39m\u001b[38;5;132;01m{\u001b[39;00mresult\u001b[38;5;132;01m}\u001b[39;00m\u001b[33m\"\u001b[39m)\n\u001b[32m      7\u001b[39m nums = [\u001b[32m50\u001b[39m, \u001b[32m30\u001b[39m, \u001b[32m70\u001b[39m, \u001b[32m20\u001b[39m, \u001b[32m80\u001b[39m]\n",
      "\u001b[36mCell\u001b[39m\u001b[36m \u001b[39m\u001b[32mIn[1]\u001b[39m\u001b[32m, line 4\u001b[39m, in \u001b[36mdelete_operations\u001b[39m\u001b[34m(nums, operations)\u001b[39m\n\u001b[32m      2\u001b[39m \u001b[38;5;28;01mfor\u001b[39;00m op \u001b[38;5;129;01min\u001b[39;00m operations:\n\u001b[32m      3\u001b[39m     \u001b[38;5;28;01mif\u001b[39;00m op >= \u001b[32m0\u001b[39m:\n\u001b[32m----> \u001b[39m\u001b[32m4\u001b[39m         \u001b[43mnums\u001b[49m\u001b[43m.\u001b[49m\u001b[43mpop\u001b[49m\u001b[43m(\u001b[49m\u001b[43mop\u001b[49m\u001b[43m)\u001b[49m\n\u001b[32m      5\u001b[39m     \u001b[38;5;28;01melse\u001b[39;00m:\n\u001b[32m      6\u001b[39m         smallest = nums[\u001b[32m0\u001b[39m]\n",
      "\u001b[31mIndexError\u001b[39m: pop index out of range"
     ]
    }
   ],
   "source": [
    "nums = [50, 30, 70, 20, 80]\n",
    "operations = [2, -1, 4, -1]\n",
    "expected = [50]\n",
    "result = delete_operations(nums, operations)\n",
    "print(f\"{result==expected}. Expected {expected}. Got {result}\")\n",
    "\n",
    "nums = [50, 30, 70, 20, 80]\n",
    "operations = [2, -1, 4, -1]\n",
    "expected = [50]\n",
    "result = delete_operations(nums, operations)\n",
    "print(f\"{result==expected}. Expected {expected}. Got {result}\")\n",
    "\n",
    "nums = [50, 30, 70, 20, 80]\n",
    "operations = [2, -1, 4, -1]\n",
    "expected = [50]\n",
    "result = delete_operations(nums, operations)\n",
    "print(f\"{result==expected}. Expected {expected}. Got {result}\")"
   ]
  },
  {
   "cell_type": "markdown",
   "id": "954419f6",
   "metadata": {},
   "source": [
    "### Problem 31.4 Spreadsheet"
   ]
  },
  {
   "cell_type": "code",
   "execution_count": 46,
   "id": "47baeaeb",
   "metadata": {},
   "outputs": [],
   "source": [
    "class Spreadsheet():\n",
    "    def __init__(self):\n",
    "        self.sheet = []\n",
    "    \n",
    "    def new(self, rows, cols):\n",
    "        self.sheet = [[0]*cols for _ in range(rows)]\n",
    "    \n",
    "    def get(self, row, col):\n",
    "        return self.sheet[row][col]\n",
    "    \n",
    "    def set(self, row, col, value):\n",
    "        self.sheet[row][col] = value\n",
    "    \n",
    "    def sort_rows_by_column(self, col):\n",
    "        self.sheet.sort(key=lambda row: row[col])\n",
    "    \n",
    "    def sort_columns_by_row(self, row):\n",
    "        return None"
   ]
  },
  {
   "cell_type": "code",
   "execution_count": 47,
   "id": "f7f4e5c9",
   "metadata": {},
   "outputs": [
    {
     "data": {
      "text/plain": [
       "1"
      ]
     },
     "execution_count": 47,
     "metadata": {},
     "output_type": "execute_result"
    }
   ],
   "source": [
    "spreadsheet = Spreadsheet()\n",
    "spreadsheet.new(3, 3)\n",
    "spreadsheet.set(0, 0, 5)\n",
    "spreadsheet.set(0, 1, 3)\n",
    "spreadsheet.set(0, 2, 8)\n",
    "spreadsheet.set(1, 0, 6)\n",
    "spreadsheet.set(2, 1, 1)\n",
    "spreadsheet.sort_columns_by_row(0)\n",
    "spreadsheet.sort_rows_by_column(1)\n",
    "spreadsheet.get(1, 1)  # Returns 5"
   ]
  },
  {
   "cell_type": "markdown",
   "id": "eb9166df",
   "metadata": {},
   "source": [
    "### Problem 31.5 Sort By Publication Year"
   ]
  },
  {
   "cell_type": "code",
   "execution_count": 26,
   "id": "744f2b86",
   "metadata": {},
   "outputs": [],
   "source": [
    "class Book():\n",
    "    def __init__(self, title, author, page_count, genre, year_published):\n",
    "        self.title = title\n",
    "        self.author = author\n",
    "        self.page_count = page_count\n",
    "        self.genre = genre\n",
    "        self.year_published = year_published\n",
    "\n",
    "def sort_books(books: list):\n",
    "    # books.sort(key=lambda x: x.year_published)\n",
    "    # # print([book.title for book in books])\n",
    "    # return books\n",
    "\n",
    "    years = dict()\n",
    "    result = []\n",
    "    for i in range(1000, 3001):\n",
    "        years[i] = []\n",
    "    for book in books:\n",
    "        years[book.year_published].append(book)\n",
    "    for key, val in years.items():\n",
    "        if len(val) > 0:\n",
    "            for book in val:\n",
    "                result.append(book)\n",
    "    return result"
   ]
  },
  {
   "cell_type": "code",
   "execution_count": 27,
   "id": "f7344eac",
   "metadata": {},
   "outputs": [
    {
     "name": "stdout",
     "output_type": "stream",
     "text": [
      "False. Expected ['Echoes of Eternity', 'Whispers in the Wind', 'Fragments of Dawn', 'Beneath the Starlit Sky', 'Shadow of Tomorrow']. Got ['Whispers in the Wind', 'Echoes of Eternity', 'Fragments of Dawn', 'Shadow of Tomorrow', 'Beneath the Starlit Sky']\n",
      "True. Expected []. Got []\n",
      "True. Expected ['Solo']. Got ['Solo']\n"
     ]
    }
   ],
   "source": [
    "books = [\n",
    "  Book(\"Shadow of Tomorrow\", \"Elliot Greyson\", 350, \"Science Fiction\", 2020),\n",
    "  Book(\"Whispers in the Wind\", \"Lila Hart\", 280, \"Romance\", 2018),\n",
    "  Book(\"Echoes of Eternity\", \"Mara Vance\", 420, \"Fantasy\", 2018),\n",
    "  Book(\"Fragments of Dawn\", \"Cora Blake\", 310, \"Mystery\", 2019),\n",
    "  Book(\"Beneath the Starlit Sky\", \"Aria Monroe\", 270, \"Drama\", 2020)\n",
    "]\n",
    "expected = [\n",
    "  Book(\"Echoes of Eternity\", \"Mara Vance\", 420, \"Fantasy\", 2018),\n",
    "  Book(\"Whispers in the Wind\", \"Lila Hart\", 280, \"Romance\", 2018),\n",
    "  Book(\"Fragments of Dawn\", \"Cora Blake\", 310, \"Mystery\", 2019),\n",
    "  Book(\"Beneath the Starlit Sky\", \"Aria Monroe\", 270, \"Drama\", 2020),\n",
    "  Book(\"Shadow of Tomorrow\", \"Elliot Greyson\", 350, \"Science Fiction\", 2020)\n",
    "]\n",
    "result = sort_books(books)\n",
    "if len(expected) > 1:\n",
    "    expected = [book.title for book in expected]\n",
    "if len(result) > 1:\n",
    "    result = [book.title for book in result]\n",
    "print(f\"{result==expected}. Expected {expected}. Got {result}\")\n",
    "\n",
    "books = []\n",
    "expected = []\n",
    "result = sort_books(books)\n",
    "if len(expected) > 1:\n",
    "    expected = [book.title for book in expected]\n",
    "if len(result) > 1:\n",
    "    result = [book.title for book in result]\n",
    "print(f\"{result==expected}. Expected {expected}. Got {result}\")\n",
    "\n",
    "books = [Book(\"Solo\", \"Author\", 100, \"Genre\", 2000)]\n",
    "expected = [Book(\"Solo\", \"Author\", 100, \"Genre\", 2000)]\n",
    "result = sort_books(books)\n",
    "if len(expected) > 0:\n",
    "    expected = [book.title for book in expected]\n",
    "if len(result) > 0:\n",
    "    result = [book.title for book in result]\n",
    "print(f\"{result==expected}. Expected {expected}. Got {result}\")"
   ]
  }
 ],
 "metadata": {
  "kernelspec": {
   "display_name": "3.12.10",
   "language": "python",
   "name": "python3"
  },
  "language_info": {
   "codemirror_mode": {
    "name": "ipython",
    "version": 3
   },
   "file_extension": ".py",
   "mimetype": "text/x-python",
   "name": "python",
   "nbconvert_exporter": "python",
   "pygments_lexer": "ipython3",
   "version": "3.12.10"
  }
 },
 "nbformat": 4,
 "nbformat_minor": 5
}
