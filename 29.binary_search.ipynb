{
 "cells": [
  {
   "cell_type": "markdown",
   "id": "f1d4120e",
   "metadata": {},
   "source": [
    "### Problem 29.1 Search in a Sorted Array"
   ]
  },
  {
   "cell_type": "code",
   "execution_count": 19,
   "id": "1c0133a4",
   "metadata": {},
   "outputs": [],
   "source": [
    "# 10, 0 -> 5. 10, 5 -> 7\n",
    "\n",
    "def find_target_index(arr, target):\n",
    "    left = 0\n",
    "    right = len(arr) - 1\n",
    "    cur = right // 2\n",
    "    while left <= right:\n",
    "        cur = (left + right) // 2\n",
    "        # print(left, right, arr[cur])\n",
    "        if arr[cur] == target:\n",
    "            return cur\n",
    "        elif arr[cur] > target:\n",
    "            right = cur - 1\n",
    "        elif arr[cur] < target:\n",
    "            left = cur + 1\n",
    "        \n",
    "    return -1 "
   ]
  },
  {
   "cell_type": "code",
   "execution_count": 20,
   "id": "2e959cfc",
   "metadata": {},
   "outputs": [
    {
     "name": "stdout",
     "output_type": "stream",
     "text": [
      "True. Got 2. Expected 2.\n",
      "True. Got -1. Expected -1.\n",
      "True. Got 0. Expected 0.\n",
      "True. Got 2. Expected 2.\n",
      "True. Got 0. Expected 0.\n"
     ]
    }
   ],
   "source": [
    "arr = [-2, 0, 3, 4, 7, 9, 11]\n",
    "target = 3\n",
    "expected = 2\n",
    "result = find_target_index(arr, target)\n",
    "print(f\"{expected==result}. Got {result}. Expected {expected}.\")\n",
    "\n",
    "arr = [-2, 0, 3, 4, 7, 9, 11]\n",
    "target = 2\n",
    "expected = -1\n",
    "result = find_target_index(arr, target)\n",
    "print(f\"{expected==result}. Got {result}. Expected {expected}.\")\n",
    "\n",
    "arr = [1, 2, 3]\n",
    "target = 1\n",
    "expected = 0\n",
    "result = find_target_index(arr, target)\n",
    "print(f\"{expected==result}. Got {result}. Expected {expected}.\")\n",
    "\n",
    "arr = [1, 2, 3]\n",
    "target = 3\n",
    "expected = 2\n",
    "result = find_target_index(arr, target)\n",
    "print(f\"{expected==result}. Got {result}. Expected {expected}.\")\n",
    "\n",
    "arr = [1]\n",
    "target = 1\n",
    "expected = 0\n",
    "result = find_target_index(arr, target)\n",
    "print(f\"{expected==result}. Got {result}. Expected {expected}.\")"
   ]
  },
  {
   "cell_type": "markdown",
   "id": "ab00abf7",
   "metadata": {},
   "source": [
    "### Problem 29.2 CCTV Footage"
   ]
  },
  {
   "cell_type": "code",
   "execution_count": 30,
   "id": "1b1991f1",
   "metadata": {},
   "outputs": [],
   "source": [
    "# if maximizing speed, locally, this is the best method, but the question requires us to treat \"is_stolen\" like an api call, and so minimizing the number of calls is our metric of efficiency\n",
    "def stolen_bike2(t1, t2, is_stolen):\n",
    "    cur = (t1+t2)//2\n",
    "    while not (is_stolen(cur) and not is_stolen(cur-1)):\n",
    "        if is_stolen(cur):\n",
    "            t2 = cur\n",
    "        else:\n",
    "            t1 = cur\n",
    "        cur = (t1+t2)//2\n",
    "    return cur\n",
    "\n",
    "# instead, to minimize the number of times we call the api, we bring the two bounds together, rather than having a target finder\n",
    "# 1 5, 3 5, \n",
    "def stolen_bike(t1, t2, is_stolen):\n",
    "    while t2-t1 > 1:\n",
    "        mid = (t2+t1)//2\n",
    "        if is_stolen(mid):\n",
    "            t2 = mid\n",
    "        else:\n",
    "            t1 = mid\n",
    "    return t2"
   ]
  },
  {
   "cell_type": "code",
   "execution_count": 31,
   "id": "b7ccadfd",
   "metadata": {},
   "outputs": [
    {
     "name": "stdout",
     "output_type": "stream",
     "text": [
      "True Got 3. Expected 3.\n",
      "True Got 7. Expected 7.\n",
      "True Got 8. Expected 8.\n",
      "True Got 2. Expected 2.\n",
      "True Got 5. Expected 5.\n",
      "True Got 6. Expected 6.\n"
     ]
    }
   ],
   "source": [
    "t1 = 1\n",
    "t2 = 5\n",
    "is_stolen = lambda t: t >= 3\n",
    "result = stolen_bike(t1, t2, is_stolen)\n",
    "expected = 3\n",
    "print(f\"{expected==result} Got {result}. Expected {expected}.\")\n",
    "\n",
    "t1 = 1\n",
    "t2 = 10\n",
    "is_stolen = lambda t: t >= 7\n",
    "result = stolen_bike(t1, t2, is_stolen)\n",
    "expected = 7\n",
    "print(f\"{expected==result} Got {result}. Expected {expected}.\")\n",
    "\n",
    "t1 = 5\n",
    "t2 = 10\n",
    "is_stolen = lambda t: t >= 8\n",
    "result = stolen_bike(t1, t2, is_stolen)\n",
    "expected = 8\n",
    "print(f\"{expected==result} Got {result}. Expected {expected}.\")\n",
    "\n",
    "t1 = 1\n",
    "t2 = 5\n",
    "is_stolen = lambda t: t >= 2\n",
    "result = stolen_bike(t1, t2, is_stolen)\n",
    "expected = 2\n",
    "print(f\"{expected==result} Got {result}. Expected {expected}.\")\n",
    "\n",
    "t1 = 1\n",
    "t2 = 5\n",
    "is_stolen = lambda t: t >= 5\n",
    "result = stolen_bike(t1, t2, is_stolen)\n",
    "expected = 5\n",
    "print(f\"{expected==result} Got {result}. Expected {expected}.\")\n",
    "\n",
    "t1 = 5\n",
    "t2 = 6\n",
    "is_stolen = lambda t: t >= 6\n",
    "result = stolen_bike(t1, t2, is_stolen)\n",
    "expected = 6\n",
    "print(f\"{expected==result} Got {result}. Expected {expected}.\")"
   ]
  },
  {
   "cell_type": "markdown",
   "id": "08d0f5f8",
   "metadata": {},
   "source": [
    "### Problem 29.3 Valley Bottom"
   ]
  },
  {
   "cell_type": "code",
   "execution_count": null,
   "id": "1a19ec17",
   "metadata": {},
   "outputs": [],
   "source": [
    "# 11 1 5 7 10\n",
    "def valley_bottom(arr):\n",
    "    left = 0\n",
    "    right = len(arr) - 1\n",
    "    while left < right -1:\n",
    "        mid = (left+right) // 2\n",
    "        print(arr[left],arr[mid],arr[right])\n",
    "        if arr[mid] > arr[mid-1]: # on the incline\n",
    "            right = mid\n",
    "        else: # on the decline\n",
    "            left = mid\n",
    "    return min(arr[left], arr[right])\n"
   ]
  },
  {
   "cell_type": "code",
   "execution_count": 25,
   "id": "fba365d7",
   "metadata": {},
   "outputs": [
    {
     "name": "stdout",
     "output_type": "stream",
     "text": [
      "6 4 9\n",
      "4 7 9\n",
      "True Got 4. Expected 4.\n",
      "5 6 7\n",
      "True Got 5. Expected 5.\n",
      "7 6 5\n",
      "True Got 5. Expected 5.\n",
      "True Got 6. Expected 6.\n",
      "True Got 6. Expected 6.\n",
      "15 3 10\n",
      "3 4 10\n",
      "3 1 4\n",
      "1 2 4\n",
      "True Got 1. Expected 1.\n"
     ]
    }
   ],
   "source": [
    "arr = [6, 5, 4, 7, 9]\n",
    "expected = 4\n",
    "result = valley_bottom(arr)\n",
    "print(f\"{expected==result} Got {result}. Expected {expected}.\")\n",
    "\n",
    "arr = [5, 6, 7]\n",
    "expected = 5\n",
    "result = valley_bottom(arr)\n",
    "print(f\"{expected==result} Got {result}. Expected {expected}.\")\n",
    "\n",
    "arr = [7, 6, 5]\n",
    "expected = 5\n",
    "result = valley_bottom(arr)\n",
    "print(f\"{expected==result} Got {result}. Expected {expected}.\")\n",
    "\n",
    "arr = [7, 6]\n",
    "expected = 6\n",
    "result = valley_bottom(arr)\n",
    "print(f\"{expected==result} Got {result}. Expected {expected}.\")\n",
    "\n",
    "arr = [6, 7]\n",
    "expected = 6\n",
    "result = valley_bottom(arr)\n",
    "print(f\"{expected==result} Got {result}. Expected {expected}.\")\n",
    "\n",
    "arr = [15, 13, 11, 9, 7, 5, 3, 1, 2, 4, 6, 8, 10]\n",
    "expected = 1\n",
    "result = valley_bottom(arr)\n",
    "print(f\"{expected==result} Got {result}. Expected {expected}.\")"
   ]
  },
  {
   "cell_type": "markdown",
   "id": "14b01c24",
   "metadata": {},
   "source": [
    "### Problem 29.4 2-Array 2-Sum"
   ]
  },
  {
   "cell_type": "code",
   "execution_count": 18,
   "id": "9574d4b9",
   "metadata": {},
   "outputs": [],
   "source": [
    "def two_array_two_sum(sorted_arr, unsorted_arr):\n",
    "    for u in range(len(unsorted_arr)):\n",
    "        # print(f\"u is {unsorted_arr[u]}\")\n",
    "        left = 0\n",
    "        right = len(sorted_arr)\n",
    "        while left < right:\n",
    "            mid = (left + right)//2\n",
    "            # print(sorted_arr[mid])\n",
    "            if sorted_arr[mid] + unsorted_arr[u] == 0:\n",
    "                return [mid, u]\n",
    "            elif sorted_arr[mid] > 0-unsorted_arr[u]:\n",
    "                right = mid-1\n",
    "            else:\n",
    "                left = mid+1\n",
    "    return [-1,-1] "
   ]
  },
  {
   "cell_type": "code",
   "execution_count": 19,
   "id": "fb0da2d2",
   "metadata": {},
   "outputs": [
    {
     "name": "stdout",
     "output_type": "stream",
     "text": [
      "True Got [1, 3]. Expected [1, 3].\n",
      "True Got [-1, -1]. Expected [-1, -1].\n",
      "True Got [0, 1]. Expected [0, 1].\n",
      "True Got [0, 3]. Expected [0, 3].\n"
     ]
    }
   ],
   "source": [
    "sorted_arr = [-5, -4, -1, 4, 6, 6, 7]\n",
    "unsorted_arr = [-3, 7, 18, 4, 6]\n",
    "expected = [1, 3]\n",
    "result = two_array_two_sum(sorted_arr, unsorted_arr)\n",
    "print(f\"{expected==result} Got {result}. Expected {expected}.\")\n",
    "\n",
    "sorted_arr = [1, 2, 3]\n",
    "unsorted_arr = [1, 2, 3]\n",
    "expected = [-1, -1]\n",
    "result = two_array_two_sum(sorted_arr, unsorted_arr)\n",
    "print(f\"{expected==result} Got {result}. Expected {expected}.\")\n",
    "\n",
    "sorted_arr = [-2, 0, 1, 2]\n",
    "unsorted_arr = [0, 2, -2, 4]\n",
    "expected = [0, 1]\n",
    "result = two_array_two_sum(sorted_arr, unsorted_arr)\n",
    "print(f\"{expected==result} Got {result}. Expected {expected}.\")\n",
    "\n",
    "sorted_arr = [0, 1, 2, 3]\n",
    "unsorted_arr = [3, 2, 1, 0]\n",
    "expected = [0, 3]\n",
    "result = two_array_two_sum(sorted_arr, unsorted_arr)\n",
    "print(f\"{expected==result} Got {result}. Expected {expected}.\")"
   ]
  },
  {
   "cell_type": "markdown",
   "id": "64e9452c",
   "metadata": {},
   "source": [
    "### Problem 29.5"
   ]
  },
  {
   "cell_type": "code",
   "execution_count": null,
   "id": "95b09f48",
   "metadata": {},
   "outputs": [],
   "source": [
    "def target_count(arr, target, k):\n",
    "    left = 0\n",
    "    right = len(arr)-1\n",
    "    \n",
    "    # check if target exists at all. constant time. \n",
    "    if arr[right] < target or arr[left] > target:\n",
    "        return True\n",
    "    \n",
    "    # find beginning. logn time\n",
    "    if arr[left] != target: # check edge case, target is beginning\n",
    "        while left < right-1:\n",
    "            mid = (right+left) // 2\n",
    "            if arr[mid] < target:\n",
    "                left = mid\n",
    "            elif arr[mid] >= target:\n",
    "                right = mid\n",
    "        print(left, right)\n",
    "        begin = right\n",
    "        left = 0\n",
    "        right = len(arr)-1\n",
    "    else:\n",
    "        begin = left\n",
    "\n",
    "    # find ending. logn time\n",
    "    if arr[right] != target: # check edge case - target is end\n",
    "        while left < right-1:\n",
    "            mid = (right+left) // 2\n",
    "            if arr[mid] <= target:\n",
    "                left = mid\n",
    "            elif arr[mid] > target:\n",
    "                right = mid\n",
    "        print(left, right)\n",
    "        end = left\n",
    "    else:\n",
    "        end = right\n",
    "    return ((end-begin)+1) % k == 0"
   ]
  },
  {
   "cell_type": "code",
   "execution_count": 49,
   "id": "080bc181",
   "metadata": {},
   "outputs": [
    {
     "name": "stdout",
     "output_type": "stream",
     "text": [
      "0 1\n",
      "6 7\n",
      "True Got True. Expected True.\n",
      "0 1\n",
      "6 7\n",
      "True Got False. Expected False.\n",
      "True Got True. Expected True.\n",
      "0 1\n",
      "True Got False. Expected False.\n",
      "0 1\n",
      "True Got True. Expected True.\n",
      "True Got True. Expected True.\n"
     ]
    }
   ],
   "source": [
    "arr = [1, 2, 2, 2, 2, 2, 2, 3]\n",
    "target = 2\n",
    "k = 3\n",
    "result = target_count(arr, target, k)\n",
    "expected = True\n",
    "print(f\"{expected==result} Got {result}. Expected {expected}.\")\n",
    "\n",
    "arr = [1, 2, 2, 2, 2, 2, 2, 3]\n",
    "target = 2\n",
    "k = 4\n",
    "result = target_count(arr, target, k)\n",
    "expected = False\n",
    "print(f\"{expected==result} Got {result}. Expected {expected}.\")\n",
    "\n",
    "arr = [1, 2, 2, 2, 2, 2, 2, 3]\n",
    "target = 4\n",
    "k = 3\n",
    "result = target_count(arr, target, k)\n",
    "expected = True\n",
    "print(f\"{expected==result} Got {result}. Expected {expected}.\")\n",
    "\n",
    "arr = [1, 3, 5, 7, 9, 11, 13, 15, 17, 19]\n",
    "target = 1\n",
    "k = 2\n",
    "result = target_count(arr, target, k)\n",
    "expected = False\n",
    "print(f\"{expected==result} Got {result}. Expected {expected}.\")\n",
    "\n",
    "arr = [1, 3, 5, 7, 9, 11, 13, 15, 17, 19]\n",
    "target = 1\n",
    "k = 1\n",
    "result = target_count(arr, target, k)\n",
    "expected = True\n",
    "print(f\"{expected==result} Got {result}. Expected {expected}.\")\n",
    "\n",
    "arr = [5, 5, 5, 5, 5]\n",
    "target = 5\n",
    "k = 5\n",
    "result = target_count(arr, target, k)\n",
    "expected = True\n",
    "print(f\"{expected==result} Got {result}. Expected {expected}.\")"
   ]
  },
  {
   "cell_type": "code",
   "execution_count": null,
   "id": "954b15d4",
   "metadata": {},
   "outputs": [],
   "source": []
  }
 ],
 "metadata": {
  "kernelspec": {
   "display_name": "Python 3",
   "language": "python",
   "name": "python3"
  },
  "language_info": {
   "codemirror_mode": {
    "name": "ipython",
    "version": 3
   },
   "file_extension": ".py",
   "mimetype": "text/x-python",
   "name": "python",
   "nbconvert_exporter": "python",
   "pygments_lexer": "ipython3",
   "version": "3.12.10"
  }
 },
 "nbformat": 4,
 "nbformat_minor": 5
}
