{
 "cells": [
  {
   "cell_type": "markdown",
   "id": "f1d4120e",
   "metadata": {},
   "source": [
    "### Problem 29.1 Search in a Sorted Array"
   ]
  },
  {
   "cell_type": "code",
   "execution_count": 19,
   "id": "1c0133a4",
   "metadata": {},
   "outputs": [],
   "source": [
    "# 10, 0 -> 5. 10, 5 -> 7\n",
    "\n",
    "def find_target_index(arr, target):\n",
    "    left = 0\n",
    "    right = len(arr) - 1\n",
    "    cur = right // 2\n",
    "    while left <= right:\n",
    "        cur = (left + right) // 2\n",
    "        # print(left, right, arr[cur])\n",
    "        if arr[cur] == target:\n",
    "            return cur\n",
    "        elif arr[cur] > target:\n",
    "            right = cur - 1\n",
    "        elif arr[cur] < target:\n",
    "            left = cur + 1\n",
    "        \n",
    "    return -1 "
   ]
  },
  {
   "cell_type": "code",
   "execution_count": 20,
   "id": "2e959cfc",
   "metadata": {},
   "outputs": [
    {
     "name": "stdout",
     "output_type": "stream",
     "text": [
      "True. Got 2. Expected 2.\n",
      "True. Got -1. Expected -1.\n",
      "True. Got 0. Expected 0.\n",
      "True. Got 2. Expected 2.\n",
      "True. Got 0. Expected 0.\n"
     ]
    }
   ],
   "source": [
    "arr = [-2, 0, 3, 4, 7, 9, 11]\n",
    "target = 3\n",
    "expected = 2\n",
    "result = find_target_index(arr, target)\n",
    "print(f\"{expected==result}. Got {result}. Expected {expected}.\")\n",
    "\n",
    "arr = [-2, 0, 3, 4, 7, 9, 11]\n",
    "target = 2\n",
    "expected = -1\n",
    "result = find_target_index(arr, target)\n",
    "print(f\"{expected==result}. Got {result}. Expected {expected}.\")\n",
    "\n",
    "arr = [1, 2, 3]\n",
    "target = 1\n",
    "expected = 0\n",
    "result = find_target_index(arr, target)\n",
    "print(f\"{expected==result}. Got {result}. Expected {expected}.\")\n",
    "\n",
    "arr = [1, 2, 3]\n",
    "target = 3\n",
    "expected = 2\n",
    "result = find_target_index(arr, target)\n",
    "print(f\"{expected==result}. Got {result}. Expected {expected}.\")\n",
    "\n",
    "arr = [1]\n",
    "target = 1\n",
    "expected = 0\n",
    "result = find_target_index(arr, target)\n",
    "print(f\"{expected==result}. Got {result}. Expected {expected}.\")"
   ]
  },
  {
   "cell_type": "markdown",
   "id": "ab00abf7",
   "metadata": {},
   "source": [
    "### Problem 29.2 CCTV Footage"
   ]
  },
  {
   "cell_type": "code",
   "execution_count": 30,
   "id": "1b1991f1",
   "metadata": {},
   "outputs": [],
   "source": [
    "# if maximizing speed, locally, this is the best method, but the question requires us to treat \"is_stolen\" like an api call, and so minimizing the number of calls is our metric of efficiency\n",
    "def stolen_bike2(t1, t2, is_stolen):\n",
    "    cur = (t1+t2)//2\n",
    "    while not (is_stolen(cur) and not is_stolen(cur-1)):\n",
    "        if is_stolen(cur):\n",
    "            t2 = cur\n",
    "        else:\n",
    "            t1 = cur\n",
    "        cur = (t1+t2)//2\n",
    "    return cur\n",
    "\n",
    "# instead, to minimize the number of times we call the api, we bring the two bounds together, rather than having a target finder\n",
    "# 1 5, 3 5, \n",
    "def stolen_bike(t1, t2, is_stolen):\n",
    "    while t2-t1 > 1:\n",
    "        mid = (t2+t1)//2\n",
    "        if is_stolen(mid):\n",
    "            t2 = mid\n",
    "        else:\n",
    "            t1 = mid\n",
    "    return t2"
   ]
  },
  {
   "cell_type": "code",
   "execution_count": 31,
   "id": "b7ccadfd",
   "metadata": {},
   "outputs": [
    {
     "name": "stdout",
     "output_type": "stream",
     "text": [
      "True Got 3. Expected 3.\n",
      "True Got 7. Expected 7.\n",
      "True Got 8. Expected 8.\n",
      "True Got 2. Expected 2.\n",
      "True Got 5. Expected 5.\n",
      "True Got 6. Expected 6.\n"
     ]
    }
   ],
   "source": [
    "t1 = 1\n",
    "t2 = 5\n",
    "is_stolen = lambda t: t >= 3\n",
    "result = stolen_bike(t1, t2, is_stolen)\n",
    "expected = 3\n",
    "print(f\"{expected==result} Got {result}. Expected {expected}.\")\n",
    "\n",
    "t1 = 1\n",
    "t2 = 10\n",
    "is_stolen = lambda t: t >= 7\n",
    "result = stolen_bike(t1, t2, is_stolen)\n",
    "expected = 7\n",
    "print(f\"{expected==result} Got {result}. Expected {expected}.\")\n",
    "\n",
    "t1 = 5\n",
    "t2 = 10\n",
    "is_stolen = lambda t: t >= 8\n",
    "result = stolen_bike(t1, t2, is_stolen)\n",
    "expected = 8\n",
    "print(f\"{expected==result} Got {result}. Expected {expected}.\")\n",
    "\n",
    "t1 = 1\n",
    "t2 = 5\n",
    "is_stolen = lambda t: t >= 2\n",
    "result = stolen_bike(t1, t2, is_stolen)\n",
    "expected = 2\n",
    "print(f\"{expected==result} Got {result}. Expected {expected}.\")\n",
    "\n",
    "t1 = 1\n",
    "t2 = 5\n",
    "is_stolen = lambda t: t >= 5\n",
    "result = stolen_bike(t1, t2, is_stolen)\n",
    "expected = 5\n",
    "print(f\"{expected==result} Got {result}. Expected {expected}.\")\n",
    "\n",
    "t1 = 5\n",
    "t2 = 6\n",
    "is_stolen = lambda t: t >= 6\n",
    "result = stolen_bike(t1, t2, is_stolen)\n",
    "expected = 6\n",
    "print(f\"{expected==result} Got {result}. Expected {expected}.\")"
   ]
  },
  {
   "cell_type": "markdown",
   "id": "08d0f5f8",
   "metadata": {},
   "source": [
    "### Problem 29.3 Valley Bottom"
   ]
  },
  {
   "cell_type": "code",
   "execution_count": null,
   "id": "1a19ec17",
   "metadata": {},
   "outputs": [],
   "source": [
    "# 11 1 5 7 10\n",
    "def valley_bottom(arr):\n",
    "    left = 0\n",
    "    right = len(arr) - 1\n",
    "    while left < right -1:\n",
    "        mid = (left+right) // 2\n",
    "        print(arr[left],arr[mid],arr[right])\n",
    "        if arr[mid] > arr[mid-1]: # on the incline\n",
    "            right = mid\n",
    "        else: # on the decline\n",
    "            left = mid\n",
    "    return min(arr[left], arr[right])\n"
   ]
  },
  {
   "cell_type": "code",
   "execution_count": 25,
   "id": "fba365d7",
   "metadata": {},
   "outputs": [
    {
     "name": "stdout",
     "output_type": "stream",
     "text": [
      "6 4 9\n",
      "4 7 9\n",
      "True Got 4. Expected 4.\n",
      "5 6 7\n",
      "True Got 5. Expected 5.\n",
      "7 6 5\n",
      "True Got 5. Expected 5.\n",
      "True Got 6. Expected 6.\n",
      "True Got 6. Expected 6.\n",
      "15 3 10\n",
      "3 4 10\n",
      "3 1 4\n",
      "1 2 4\n",
      "True Got 1. Expected 1.\n"
     ]
    }
   ],
   "source": [
    "arr = [6, 5, 4, 7, 9]\n",
    "expected = 4\n",
    "result = valley_bottom(arr)\n",
    "print(f\"{expected==result} Got {result}. Expected {expected}.\")\n",
    "\n",
    "arr = [5, 6, 7]\n",
    "expected = 5\n",
    "result = valley_bottom(arr)\n",
    "print(f\"{expected==result} Got {result}. Expected {expected}.\")\n",
    "\n",
    "arr = [7, 6, 5]\n",
    "expected = 5\n",
    "result = valley_bottom(arr)\n",
    "print(f\"{expected==result} Got {result}. Expected {expected}.\")\n",
    "\n",
    "arr = [7, 6]\n",
    "expected = 6\n",
    "result = valley_bottom(arr)\n",
    "print(f\"{expected==result} Got {result}. Expected {expected}.\")\n",
    "\n",
    "arr = [6, 7]\n",
    "expected = 6\n",
    "result = valley_bottom(arr)\n",
    "print(f\"{expected==result} Got {result}. Expected {expected}.\")\n",
    "\n",
    "arr = [15, 13, 11, 9, 7, 5, 3, 1, 2, 4, 6, 8, 10]\n",
    "expected = 1\n",
    "result = valley_bottom(arr)\n",
    "print(f\"{expected==result} Got {result}. Expected {expected}.\")"
   ]
  }
 ],
 "metadata": {
  "kernelspec": {
   "display_name": "Python 3",
   "language": "python",
   "name": "python3"
  },
  "language_info": {
   "codemirror_mode": {
    "name": "ipython",
    "version": 3
   },
   "file_extension": ".py",
   "mimetype": "text/x-python",
   "name": "python",
   "nbconvert_exporter": "python",
   "pygments_lexer": "ipython3",
   "version": "3.12.10"
  }
 },
 "nbformat": 4,
 "nbformat_minor": 5
}
