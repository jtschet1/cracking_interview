{
 "cells": [
  {
   "cell_type": "markdown",
   "id": "76e3d1fb",
   "metadata": {},
   "source": [
    "## Two Pointers Problem Set"
   ]
  },
  {
   "cell_type": "markdown",
   "id": "0993bf68",
   "metadata": {},
   "source": [
    "### Problem 27.1 Palindrome Check"
   ]
  },
  {
   "cell_type": "code",
   "execution_count": null,
   "id": "1b04e5f6",
   "metadata": {},
   "outputs": [],
   "source": [
    "def palindrome_check(s):\n",
    "    left = 0\n",
    "    right = len(s)-1\n",
    "    while left <= right:\n",
    "        if s[left] != s[right]:\n",
    "            return False\n",
    "        left += 1\n",
    "        right -= 1\n",
    "    return True"
   ]
  },
  {
   "cell_type": "code",
   "execution_count": null,
   "id": "779760bf",
   "metadata": {},
   "outputs": [],
   "source": [
    "s = \"level\"\n",
    "result = palindrome_check(s)\n",
    "expected = True\n",
    "print(f\"Got: {result}. Expected: {expected}\")\n",
    "\n",
    "s = \"naan\"\n",
    "result = palindrome_check(s)\n",
    "expected = True\n",
    "print(f\"Got: {result}. Expected: {expected}\")\n",
    "\n",
    "s = \"hello\"\n",
    "result = palindrome_check(s)\n",
    "expected = False\n",
    "print(f\"Got: {result}. Expected: {expected}\")\n",
    "\n",
    "s = \"helleh\"\n",
    "result = palindrome_check(s)\n",
    "expected = True\n",
    "print(f\"Got: {result}. Expected: {expected}\")\n",
    "\n",
    "s = \"aassdfffddssaa\"\n",
    "result = palindrome_check(s)\n",
    "expected = False\n",
    "print(f\"Got: {result}. Expected: {expected}\")"
   ]
  },
  {
   "cell_type": "markdown",
   "id": "184c287f",
   "metadata": {},
   "source": [
    "###  Problem 27.2 Smaller Prefixes"
   ]
  },
  {
   "cell_type": "code",
   "execution_count": null,
   "id": "ce56c47f",
   "metadata": {},
   "outputs": [],
   "source": [
    "def smaller_prefix(arr):\n",
    "    sp = 0\n",
    "    fp = 0\n",
    "    ss = 0\n",
    "    fs = 0\n",
    "    while fp < len(arr):\n",
    "        ss += arr[sp]\n",
    "        fs += arr[fp] + arr[fp+1]\n",
    "        if ss >= fs:\n",
    "            return False\n",
    "        sp += 1\n",
    "        fp += 2\n",
    "    return True"
   ]
  },
  {
   "cell_type": "code",
   "execution_count": null,
   "id": "044f402b",
   "metadata": {},
   "outputs": [],
   "source": [
    "arr1 = [1, 2, 2, -1]\n",
    "expected = True\n",
    "result = smaller_prefix(arr1)\n",
    "print(f\"Got: {result}. Expected: {expected}\")\n",
    "\n",
    "arr1 = [1, 2, -2, 1, 3, 5]\n",
    "expected = False\n",
    "result = smaller_prefix(arr1)\n",
    "print(f\"Got: {result}. Expected: {expected}\")"
   ]
  },
  {
   "cell_type": "markdown",
   "id": "ba8c7bad",
   "metadata": {},
   "source": [
    "### Problem 27.3 Array Intersection"
   ]
  },
  {
   "cell_type": "code",
   "execution_count": null,
   "id": "18dca2ac",
   "metadata": {},
   "outputs": [],
   "source": [
    "def get_intersection(arr1, arr2):\n",
    "    if len(arr1) == 0 or len(arr2) == 0:\n",
    "        return []\n",
    "    \n",
    "    result = []\n",
    "    p1 = 0\n",
    "    p2 = 0\n",
    "    while p1 < len(arr1) and p2 < len(arr2):\n",
    "        if arr1[p1] == arr2[p2]:\n",
    "            result.append(arr2[p2])\n",
    "            p1 += 1\n",
    "            p2 += 1\n",
    "        elif arr1[p1] > arr2[p2]:\n",
    "            p2 += 1\n",
    "        else:\n",
    "            p1 += 1\n",
    "    return result"
   ]
  },
  {
   "cell_type": "code",
   "execution_count": null,
   "id": "65546d10",
   "metadata": {},
   "outputs": [],
   "source": [
    "arr1 = [1, 2, 3]\n",
    "arr2 = [1, 3, 5]\n",
    "expected = [1, 3]\n",
    "result = get_intersection(arr1, arr2)\n",
    "print(f\"Got: {result}. Expected: {expected}\")\n",
    "#Explanation: 1 and 3 appear in both arrays.\n",
    "\n",
    "arr1 = [1, 1, 1]\n",
    "arr2 = [1, 1]\n",
    "expected = [1, 1]\n",
    "result = get_intersection(arr1, arr2)\n",
    "print(f\"Got: {result}. Expected: {expected}\")\n",
    "#Explanation: Two 1s appear in both arrays.\n",
    "\n",
    "arr1 = [1, 2, 2, 3]\n",
    "arr2 = []\n",
    "expected = []\n",
    "result = get_intersection(arr1, arr2)\n",
    "print(f\"Got: {result}. Expected: {expected}\")"
   ]
  },
  {
   "cell_type": "markdown",
   "id": "1fad7153",
   "metadata": {},
   "source": [
    "### Problem 27.4 Palindromic Sentence"
   ]
  },
  {
   "cell_type": "code",
   "execution_count": null,
   "id": "29530a00",
   "metadata": {},
   "outputs": [],
   "source": [
    "def is_palindromic_sentence(s: str):\n",
    "    lp = 0\n",
    "    rp = len(s)-1\n",
    "    while lp < rp:\n",
    "        if not s[lp].isalnum():\n",
    "            lp += 1\n",
    "            continue\n",
    "        if not s[rp].isalnum():\n",
    "            rp -= 1\n",
    "            continue\n",
    "        if s[lp].lower() != s[rp].lower():\n",
    "            return False\n",
    "        lp += 1\n",
    "        rp -= 1\n",
    "    return True"
   ]
  },
  {
   "cell_type": "code",
   "execution_count": null,
   "id": "8b215376",
   "metadata": {},
   "outputs": [],
   "source": [
    "s = \"Bob wondered, 'Now, Bob?'\"\n",
    "expected = True\n",
    "result = is_palindromic_sentence(s)\n",
    "print(f\"Got: {result}. Expected: {expected}\")\n",
    "\n",
    "\n",
    "s = \"race a car\"\n",
    "expected = False\n",
    "result = is_palindromic_sentence(s)\n",
    "print(f\"Got: {result}. Expected: {expected}\")\n",
    "\n",
    "s = \"rac ,].[/,].]',./xx e xx car\"\n",
    "expected = True\n",
    "result = is_palindromic_sentence(s)\n",
    "print(f\"Got: {result}. Expected: {expected}\")\n"
   ]
  },
  {
   "cell_type": "markdown",
   "id": "e80a22fd",
   "metadata": {},
   "source": [
    "### Problem 27.5 Reverse Case Match"
   ]
  },
  {
   "cell_type": "code",
   "execution_count": null,
   "id": "3e601021",
   "metadata": {},
   "outputs": [],
   "source": [
    "def reverse_case_match(s: str):\n",
    "    lp = 0\n",
    "    rp = len(s)-1\n",
    "    while lp < len(s) and rp >= 0:\n",
    "        if s[lp].isupper():\n",
    "            lp += 1\n",
    "            continue\n",
    "        if not s[rp].isupper():\n",
    "            rp -=1 \n",
    "            continue\n",
    "        if s[lp] != s[rp].lower():\n",
    "            return False\n",
    "        lp += 1\n",
    "        rp -= 1\n",
    "    return True"
   ]
  },
  {
   "cell_type": "code",
   "execution_count": null,
   "id": "a0a793ec",
   "metadata": {},
   "outputs": [],
   "source": [
    "s = \"haDrRAHd\"\n",
    "expected = True\n",
    "result = reverse_case_match(s)\n",
    "print(f\"Got: {result}. Expected: {expected}\")\n",
    "\n",
    "\n",
    "s = \"haHrARDd\"\n",
    "expected = False\n",
    "result = reverse_case_match(s)\n",
    "print(f\"Got: {result}. Expected: {expected}\")\n",
    "\n",
    "s = \"BbbB\"\n",
    "expected = True\n",
    "result = reverse_case_match(s)\n",
    "print(f\"Got: {result}. Expected: {expected}\")arr1 = [1, 3, 4, 5]\n",
    "arr2 = [2, 4, 4]\n"
   ]
  },
  {
   "cell_type": "markdown",
   "id": "73438733",
   "metadata": {},
   "source": [
    "### Problem 27.6 Merge Two Sorted Arrays"
   ]
  },
  {
   "cell_type": "code",
   "execution_count": null,
   "id": "4ef83cbd",
   "metadata": {},
   "outputs": [],
   "source": [
    "def merge(arr1, arr2):\n",
    "    result = []\n",
    "    p1 = 0\n",
    "    p2 = 0\n",
    "    while p1 < len(arr1) or p2 < len(arr2):\n",
    "        if p1 >= len(arr1):\n",
    "            result.append(arr2[p2])\n",
    "            p2 += 1\n",
    "        elif p2 >= len(arr2):\n",
    "            result.append(arr1[p1])\n",
    "            p1 += 1\n",
    "        elif arr1[p1] < arr2[p2]:\n",
    "            result.append(arr1[p1])\n",
    "            p1 += 1\n",
    "        else:\n",
    "            result.append(arr2[p2])\n",
    "            p2 += 1\n",
    "    return result\n",
    "        \n"
   ]
  },
  {
   "cell_type": "code",
   "execution_count": null,
   "id": "bc5407e4",
   "metadata": {},
   "outputs": [],
   "source": [
    "arr1 = [1, 3, 4, 5]\n",
    "arr2 = [2, 4, 4]\n",
    "expected = [1, 2, 3, 4, 4, 4, 5]\n",
    "result = merge(arr1, arr2)\n",
    "print(f\"Got: {result}. Expected: {expected}\")\n",
    "\n",
    "\n",
    "arr1 = [-1]\n",
    "arr2 = []\n",
    "expected = [-1]\n",
    "result = merge(arr1, arr2)\n",
    "print(f\"Got: {result}. Expected: {expected}\")\n",
    "\n",
    "arr1 = [1, 3, 5]\n",
    "arr2 = [2, 4, 6]\n",
    "expected = [1, 2, 3, 4, 5, 6]\n",
    "result = merge(arr1, arr2)\n",
    "print(f\"Got: {result}. Expected: {expected}\")\n"
   ]
  },
  {
   "cell_type": "markdown",
   "id": "4ff7c29a",
   "metadata": {},
   "source": [
    "### Problem 27.7 2 Sum"
   ]
  },
  {
   "cell_type": "code",
   "execution_count": null,
   "id": "cd94ca50",
   "metadata": {},
   "outputs": [],
   "source": [
    "def two_sum(arr: list):\n",
    "    lp = 0\n",
    "    rp = len(arr) - 1\n",
    "    while lp < rp:\n",
    "        if arr[lp] + arr[rp] > 0:\n",
    "            rp -= 1\n",
    "        elif arr[lp] + arr[rp] < 0:\n",
    "            lp += 1\n",
    "        else:\n",
    "            return True\n",
    "    return False"
   ]
  },
  {
   "cell_type": "code",
   "execution_count": null,
   "id": "50c6f1a8",
   "metadata": {},
   "outputs": [],
   "source": [
    "arr = [-5, -2, -1, 1, 1, 10]\n",
    "expected = True\n",
    "result = two_sum(arr)\n",
    "print(f\"Got: {result}. Expected: {expected}\")\n",
    "\n",
    "arr = [-3, 0, 0, 1, 2]\n",
    "expected = True\n",
    "result = two_sum(arr)\n",
    "print(f\"Got: {result}. Expected: {expected}\")\n",
    "\n",
    "arr = [-5, -3, -1, 0, 2, 4, 6]\n",
    "expected = False\n",
    "result = two_sum(arr)\n",
    "print(f\"Got: {result}. Expected: {expected}\")\n"
   ]
  },
  {
   "cell_type": "markdown",
   "id": "c1fd1c39",
   "metadata": {},
   "source": [
    "### Problem 27.8 Three-Way Merge Without Duplicates"
   ]
  },
  {
   "cell_type": "code",
   "execution_count": null,
   "id": "0647e089",
   "metadata": {},
   "outputs": [],
   "source": [
    "def three_way_merge(arr1: list, arr2: list, arr3: list):\n",
    "    p1 = 0\n",
    "    p2 = 0\n",
    "    p3 = 0\n",
    "    result = []\n",
    "    while p1 < len(arr1) or p2 < len(arr2) or p3 < len(arr3):\n",
    "        smallest = float('inf')\n",
    "        if p1 < len(arr1):\n",
    "            smallest = min(smallest, arr1[p1])\n",
    "        if p2 < len(arr2):\n",
    "            smallest = min(smallest, arr2[p2])\n",
    "        if p3 < len(arr3):\n",
    "            smallest = min(smallest, arr3[p3])\n",
    "\n",
    "        if p1 < len(arr1) and arr1[p1] <= smallest:\n",
    "            p1 += 1\n",
    "        if p2 < len(arr2) and arr2[p2] <= smallest:\n",
    "            p2 += 1\n",
    "        if p3 < len(arr3) and arr3[p3] <= smallest:\n",
    "            p3 += 1\n",
    "\n",
    "        if len(result) == 0 or result[-1] != smallest:\n",
    "            result.append(smallest)\n",
    "    return result"
   ]
  },
  {
   "cell_type": "code",
   "execution_count": null,
   "id": "b372961a",
   "metadata": {},
   "outputs": [],
   "source": [
    "arr1 = [2, 3, 3, 4, 5, 7]\n",
    "arr2 = [3, 3, 9]\n",
    "arr3 = [3, 3, 9]\n",
    "expected = [2, 3, 4, 5, 7, 9]\n",
    "result = three_way_merge(arr1, arr2, arr3)\n",
    "print(f\"Got: {result}. Expected: {expected}\")\n",
    "\n",
    "arr1 = [1, 2, 3]\n",
    "arr2 = [2, 3, 4]\n",
    "arr3 = [3, 4, 5]\n",
    "expected = [1, 2, 3, 4, 5]\n",
    "result = three_way_merge(arr1, arr2, arr3)\n",
    "print(f\"Got: {result}. Expected: {expected}\")\n",
    "\n",
    "arr1 = [1, 1, 1, 1]\n",
    "arr2 = [1, 1, 1]\n",
    "arr3 = [1, 1]\n",
    "expected = [1]\n",
    "result = three_way_merge(arr1, arr2, arr3)\n",
    "print(f\"Got: {result}. Expected: {expected}\")"
   ]
  },
  {
   "cell_type": "markdown",
   "id": "10b19096",
   "metadata": {},
   "source": [
    "### Problem 27.9 Sort Valley-Shaped Array"
   ]
  },
  {
   "cell_type": "code",
   "execution_count": null,
   "id": "bf6e0687",
   "metadata": {},
   "outputs": [],
   "source": [
    "def sort_valley(arr):\n",
    "    l = 0\n",
    "    r = len(arr) - 1\n",
    "    result = [0] * len(arr)\n",
    "    resp = len(arr) - 1\n",
    "    while l <= r:\n",
    "        if arr[l] > arr[r]:\n",
    "            result[resp] = arr[l]\n",
    "            l += 1\n",
    "        else:\n",
    "            result[resp] = arr[r]\n",
    "            r -= 1\n",
    "        resp -= 1\n",
    "    return result"
   ]
  },
  {
   "cell_type": "code",
   "execution_count": null,
   "id": "39beab5d",
   "metadata": {},
   "outputs": [],
   "source": [
    "arr = [8, 4, 2, 6]\n",
    "expected = [2, 4, 6, 8]\n",
    "result = sort_valley(arr)\n",
    "print(f\"Got: {result}. Expected: {expected}\")\n",
    "\n",
    "arr = [1, 2]\n",
    "expected = [1, 2]\n",
    "result = sort_valley(arr)\n",
    "print(f\"Got: {result}. Expected: {expected}\")\n",
    "\n",
    "arr = [2, 2, 1, 1]\n",
    "expected = [1, 1, 2, 2]\n",
    "result = sort_valley(arr)\n",
    "print(f\"Got: {result}. Expected: {expected}\")\n",
    "\n",
    "arr = [5, 4, 3, 2, 1, 2, 3]\n",
    "expected = [1, 2, 2, 3, 3, 4, 5]\n",
    "result = sort_valley(arr)\n",
    "print(f\"Got: {result}. Expected: {expected}\")\n",
    "\n",
    "arr = [1, 1, 1, 1]\n",
    "expected = [1, 1, 1, 1]\n",
    "result = sort_valley(arr)\n",
    "print(f\"Got: {result}. Expected: {expected}\")\n"
   ]
  },
  {
   "cell_type": "markdown",
   "id": "9a7e3d48",
   "metadata": {},
   "source": [
    "### Problem 27.10 Missing Numbers in Range"
   ]
  },
  {
   "cell_type": "code",
   "execution_count": null,
   "id": "e30abf2b",
   "metadata": {},
   "outputs": [],
   "source": [
    "def missing_numbers(arr: list, low: int, high: int):\n",
    "    if len(arr) == 0:\n",
    "        return [i for i in range(low, high+1)]\n",
    "\n",
    "    result = []\n",
    "    p = 0\n",
    "    while arr[p] < low:\n",
    "        p += 1\n",
    "    print(p)\n",
    "    i = low\n",
    "    while i <= high and p < len(arr):\n",
    "        if arr[p] == i:\n",
    "            p += 1\n",
    "        elif arr[p] < i:\n",
    "            result.append(i)\n",
    "            p += 1\n",
    "        else:\n",
    "            result.append(i)\n",
    "        i += 1\n",
    "    \n",
    "    while i <= high:\n",
    "        result.append(i)\n",
    "        i += 1\n",
    "            \n",
    "    return result"
   ]
  },
  {
   "cell_type": "code",
   "execution_count": null,
   "id": "51bd6951",
   "metadata": {},
   "outputs": [],
   "source": [
    "arr = [6, 9, 12, 15, 18]\n",
    "low = 9\n",
    "high = 13\n",
    "expected = [10, 11, 13]\n",
    "result = missing_numbers(arr, low, high)\n",
    "print(f\"Got: {result}. Expected: {expected}\")\n",
    "\n",
    "arr = []\n",
    "low = 9\n",
    "high = 9\n",
    "expected = [9]\n",
    "result = missing_numbers(arr, low, high)\n",
    "print(f\"Got: {result}. Expected: {expected}\")\n",
    "\n",
    "arr = [6, 7, 8, 9]\n",
    "low = 7\n",
    "high = 8\n",
    "expected = []\n",
    "result = missing_numbers(arr, low, high)\n",
    "print(f\"Got: {result}. Expected: {expected}\")\n",
    "\n",
    "arr = [6, 9, 12, 15, 18]\n",
    "low = 9\n",
    "high = 20\n",
    "expected = [10, 11, 13, 14, 16, 17, 19, 20]\n",
    "result = missing_numbers(arr, low, high)\n",
    "print(f\"Got: {result}. Expected: {expected}\")"
   ]
  },
  {
   "cell_type": "markdown",
   "id": "b8d4d13d",
   "metadata": {},
   "source": [
    "### Problem 27.11 Interval Intersection"
   ]
  },
  {
   "cell_type": "code",
   "execution_count": null,
   "id": "37e04864",
   "metadata": {},
   "outputs": [],
   "source": [
    "def intersection(sub1, sub2):\n",
    "     start = max(sub1[0], sub2[0])\n",
    "     end = min(sub1[1], sub2[1])\n",
    "     return [start, end]\n",
    "\n",
    "def interval_intersection(arr1, arr2):\n",
    "    result = []\n",
    "    p1 = 0\n",
    "    p2 = 0\n",
    "    while p1 < len(arr1) and p2 < len(arr2):\n",
    "        if arr1[p1][0] > arr2[p2][1]:\n",
    "            p2 += 1\n",
    "        elif arr2[p2][0] > arr1[p1][1]:\n",
    "            p1 += 1\n",
    "        else:\n",
    "            result.append(intersection(arr1[p1], arr2[p2]))\n",
    "            if arr1[p1][1] > arr2[p2][1]:\n",
    "                p2 += 1\n",
    "            else:\n",
    "                p1 += 1\n",
    "    return result"
   ]
  },
  {
   "cell_type": "code",
   "execution_count": null,
   "id": "72dd58b3",
   "metadata": {},
   "outputs": [],
   "source": [
    "arr1 = [[0, 1], [4, 6], [7, 8]]\n",
    "arr2 = [[2, 3], [5, 9], [10, 11]]\n",
    "expected = [[5, 6], [7, 8]]\n",
    "result = interval_intersection(arr1, arr2)\n",
    "print(f\"Got: {result}. Expected: {expected}\")\n",
    "\n",
    "arr1 = [[2, 4], [5, 8]]\n",
    "arr2 = [[3, 3], [4, 7]]\n",
    "expected = [[3, 3], [4, 4], [5, 7]]\n",
    "result = interval_intersection(arr1, arr2)\n",
    "print(f\"Got: {result}. Expected: {expected}\")\n",
    "\n",
    "arr1 = [[1, 2], [3, 4]]\n",
    "arr2 = [[2, 3]]\n",
    "expected = [[2, 2], [3, 3]]\n",
    "result = interval_intersection(arr1, arr2)\n",
    "print(f\"Got: {result}. Expected: {expected}\")"
   ]
  },
  {
   "cell_type": "markdown",
   "id": "4b5f8280",
   "metadata": {},
   "source": [
    "### Problem 27.12 Array Reversal"
   ]
  },
  {
   "cell_type": "code",
   "execution_count": null,
   "id": "740f1a23",
   "metadata": {},
   "outputs": [],
   "source": [
    "def reversal(arr):\n",
    "    for i in range(len(arr)//2):\n",
    "        temp = arr[i]\n",
    "        arr[i] = arr[len(arr) - 1 - i]\n",
    "        arr[len(arr)-1-i] = temp\n",
    "    return arr"
   ]
  },
  {
   "cell_type": "code",
   "execution_count": null,
   "id": "1e3e0117",
   "metadata": {},
   "outputs": [],
   "source": [
    "arr = ['h', 'e', 'l', 'l', 'o']\n",
    "expected = ['o', 'l', 'l', 'e', 'h']\n",
    "result = reversal(arr)\n",
    "print(f\"Got: {result}. Expected: {expected}\")\n",
    "\n",
    "arr = ['a']\n",
    "expected = ['a']\n",
    "result = reversal(arr)\n",
    "print(f\"Got: {result}. Expected: {expected}\")\n",
    "\n",
    "arr = []\n",
    "expected = []\n",
    "result = reversal(arr)\n",
    "print(f\"Got: {result}. Expected: {expected}\")\n",
    "\n",
    "arr = ['h', 'e', 'l', 'l', 'o', ' ']\n",
    "expected = [' ', 'o', 'l', 'l', 'e', 'h']\n",
    "result = reversal(arr)\n",
    "print(f\"Got: {result}. Expected: {expected}\")\n",
    "\n",
    "\n",
    "arr = ['h', 'e']\n",
    "expected = ['e', 'h']\n",
    "result = reversal(arr)\n",
    "print(f\"Got: {result}. Expected: {expected}\")"
   ]
  },
  {
   "cell_type": "markdown",
   "id": "a265c948",
   "metadata": {},
   "source": [
    "### Problem 27.13 Parity Sorting"
   ]
  },
  {
   "cell_type": "code",
   "execution_count": null,
   "id": "96deb628",
   "metadata": {},
   "outputs": [],
   "source": [
    "def parity_sort(arr):\n",
    "    sp = 0\n",
    "    fp = 1\n",
    "    while fp < len(arr):\n",
    "        if arr[fp] % 2 == 0:\n",
    "            arr[sp], arr[fp] = arr[fp], arr[sp]\n",
    "            sp += 1\n",
    "        fp += 1\n",
    "    return arr\n",
    "\n",
    "def parity_sort2(arr):\n",
    "    l = 0\n",
    "    r = 0\n",
    "    while l < r:\n",
    "        if arr[l] % 2 == 0:\n",
    "            l += 1\n",
    "        elif arr[r] % 2 == 1:\n",
    "            r -= 1\n",
    "        else:\n",
    "            arr[l], arr[r] = arr[r], arr[l]\n",
    "            l += 1\n",
    "            r -= 1\n",
    "    return arr"
   ]
  },
  {
   "cell_type": "code",
   "execution_count": null,
   "id": "bbf6de48",
   "metadata": {},
   "outputs": [],
   "source": [
    "arr = [1, 2, 3, 4, 5]\n",
    "result = parity_sort(arr)\n",
    "print(f\"Got: {result}\")\n",
    "result = parity_sort2(arr)\n",
    "print(f\"Got2: {result}\\n\")\n",
    "\n",
    "arr = [5, 1, 3, 1, 5]\n",
    "result = parity_sort(arr)\n",
    "print(f\"Got: {result}\")\n",
    "result = parity_sort2(arr)\n",
    "print(f\"Got2: {result}\\n\")\n",
    "\n",
    "arr = [1, 3, 2, 4]\n",
    "result = parity_sort(arr)\n",
    "print(f\"Got: {result}\")\n",
    "result = parity_sort2(arr)\n",
    "print(f\"Got2: {result}\\n\")"
   ]
  },
  {
   "cell_type": "markdown",
   "id": "7e807d96",
   "metadata": {},
   "source": [
    "### Problem 27.14 In-Place Duplicate Removal"
   ]
  },
  {
   "cell_type": "markdown",
   "id": "0054045d",
   "metadata": {},
   "source": [
    "1, 2, 2, 3, 3, 3, 5\n",
    "   s\n",
    "      f\n",
    "\n",
    "\n",
    "\n",
    "if same, increment f\n",
    "if different, increment s, sub, increment f"
   ]
  },
  {
   "cell_type": "code",
   "execution_count": null,
   "id": "d4a0ff06",
   "metadata": {},
   "outputs": [],
   "source": [
    "def dup_remove(arr):\n",
    "    if len(arr) < 2:\n",
    "        return len(arr), arr\n",
    "    sp = 0\n",
    "    fp = 1\n",
    "    while fp < len(arr):\n",
    "        if arr[sp] != arr[fp]:\n",
    "            sp += 1\n",
    "            arr[sp] = arr[fp]\n",
    "        fp += 1\n",
    "    return sp+1, arr\n"
   ]
  },
  {
   "cell_type": "code",
   "execution_count": null,
   "id": "c77a26a1",
   "metadata": {},
   "outputs": [],
   "source": [
    "arr = [1, 2, 2, 3, 3, 3, 5]\n",
    "result = dup_remove(arr)\n",
    "print(f\"Got: {result}.\")\n",
    "\n",
    "arr = []\n",
    "result = dup_remove(arr)\n",
    "print(f\"Got: {result}.\")\n",
    "\n",
    "arr = [4]\n",
    "result = dup_remove(arr)\n",
    "print(f\"Got: {result}.\")\n",
    "\n",
    "arr = [1, 1, 1]\n",
    "result = dup_remove(arr)\n",
    "print(f\"Got: {result}.\")\n",
    "\n",
    "arr = [1, 1, 1]\n",
    "result = dup_remove(arr)\n",
    "print(f\"Got: {result}.\")\n",
    "\n",
    "arr = [1, 1, 1, 1, 1, 1, 1, 1, 1, 1, 1, 1, 1, 1, 1, 2, 2, 2, 2, 3, 3, 3, 3, 4, 4, 4, 4]\n",
    "result = dup_remove(arr)\n",
    "print(f\"Got: {result}.\")"
   ]
  },
  {
   "cell_type": "markdown",
   "id": "e61ba6f7",
   "metadata": {},
   "source": [
    "### Problem 27.15 In-Place Modification"
   ]
  },
  {
   "cell_type": "code",
   "execution_count": null,
   "id": "7b2ef9be",
   "metadata": {},
   "outputs": [],
   "source": [
    "def quick_partition(arr, pivot):\n",
    "    l = 0\n",
    "    r = len(arr) - 1\n",
    "    while l < r:\n",
    "        if arr[l] <= pivot:\n",
    "            l += 1\n",
    "        elif arr[r] > pivot:\n",
    "            r -= 1\n",
    "        else:\n",
    "            arr[l], arr[r] = arr[r], arr[l]\n",
    "            l += 1\n",
    "            r -= 1\n",
    "    \n",
    "    \n",
    "    r = 0\n",
    "    while r < len(arr) and arr[r] <= pivot:\n",
    "        r += 1\n",
    "    r -= 1\n",
    "    l = 0\n",
    "\n",
    "    while l < r:\n",
    "        if arr[l] < pivot:\n",
    "            l += 1\n",
    "        elif arr[r] == pivot:\n",
    "            r -= 1\n",
    "        else:\n",
    "            # print(l, r)\n",
    "            arr[l], arr[r] = arr[r], arr[l]\n",
    "    \n",
    "\n",
    "    return arr"
   ]
  },
  {
   "cell_type": "code",
   "execution_count": null,
   "id": "0bc40f8b",
   "metadata": {},
   "outputs": [],
   "source": [
    "arr = [1, 7, 2, 3, 3, 5, 3]\n",
    "pivot = 4\n",
    "result = quick_partition(arr, pivot)\n",
    "print(f\"Got: {result}.\")\n",
    "\n",
    "arr = [8, 7, 2, 3, 3, 5, 3]\n",
    "pivot = 4\n",
    "result = quick_partition(arr, pivot)\n",
    "print(f\"Got: {result}.\")\n",
    "\n",
    "arr = [1, 7, 2, 3, 3, 5, 3]\n",
    "pivot = 3\n",
    "result = quick_partition(arr, pivot)\n",
    "print(f\"Got: {result}.\")\n",
    "\n",
    "arr = [1, 7, 2, 3, 3, 5, 3, 5, 6, 7, 8, 9]\n",
    "pivot = 3\n",
    "result = quick_partition(arr, pivot)\n",
    "print(f\"Got: {result}.\")\n",
    "\n",
    "arr = [1, 7, 2, 3, 3, 5, 3, 3, 4, 5, 4, 5]\n",
    "pivot = 3\n",
    "result = quick_partition(arr, pivot)\n",
    "print(f\"Got: {result}.\")\n",
    "\n",
    "arr = [1, 7, 2, 3, 3, 5, 3, 3, 4, 5, 4, 5]\n",
    "pivot = 40\n",
    "result = quick_partition(arr, pivot)\n",
    "print(f\"Got: {result}.\")\n",
    "\n",
    "arr = [1, 7, 2, 3, 3, 5, 3, 3, 4, 5, 4, 5]\n",
    "pivot = -40\n",
    "result = quick_partition(arr, pivot)\n",
    "print(f\"Got: {result}.\")\n",
    "\n",
    "arr = [1, 7, 2, 3, 3, 5, 3, 3, 4, 5, 4, 5, 1, 1, 1, 1, 1]\n",
    "pivot = 1\n",
    "result = quick_partition(arr, pivot)\n",
    "print(f\"Got: {result}.\")"
   ]
  },
  {
   "cell_type": "markdown",
   "id": "6b16393f",
   "metadata": {},
   "source": [
    "### Problem 27.16 Dutch Flag Problem"
   ]
  },
  {
   "cell_type": "code",
   "execution_count": null,
   "id": "70d95089",
   "metadata": {},
   "outputs": [],
   "source": [
    "def dutch_flag(arr):\n",
    "    l = 0\n",
    "    r = len(arr) - 1\n",
    "    while l < r:\n",
    "        if arr[r] == 'R':\n",
    "            arr[r], arr[l] = arr[l], arr[r]\n",
    "            l += 1\n",
    "        else:\n",
    "            r -= 1\n",
    "    \n",
    "    r = len(arr) - 1\n",
    "    while l < r:\n",
    "        if arr[r] == 'W':\n",
    "            arr[r], arr[l] = arr[l], arr[r]\n",
    "            l += 1\n",
    "        else:\n",
    "            r -= 1\n",
    "\n",
    "    return arr"
   ]
  },
  {
   "cell_type": "code",
   "execution_count": null,
   "id": "f980471c",
   "metadata": {},
   "outputs": [],
   "source": [
    "arr = ['R', 'W', 'B', 'B', 'W', 'R', 'W']\n",
    "result = dutch_flag(arr)\n",
    "print(f\"Got: {result}.\")\n",
    "\n",
    "arr = ['W', 'B', 'B', 'W', 'R', 'R', 'W', 'B', 'B', 'W', 'R', 'W', 'W', 'B', 'B', 'W', 'R']\n",
    "result = dutch_flag(arr)\n",
    "print(f\"Got: {result}.\")"
   ]
  },
  {
   "cell_type": "markdown",
   "id": "33f3131f",
   "metadata": {},
   "source": [
    "### Problem 27.17 Prefix-Suffix Swap"
   ]
  },
  {
   "cell_type": "code",
   "execution_count": null,
   "id": "7f831b08",
   "metadata": {},
   "outputs": [],
   "source": [
    "def prefix_suffix_swap(arr):\n",
    "    if len(arr) < 3 or len(arr) % 3 != 0:\n",
    "        return arr\n",
    "    \n",
    "    prefix_length = len(arr) // 3\n",
    "    p = 0\n",
    "    s = prefix_length\n",
    "    for _ in range(2):\n",
    "        for i in range(prefix_length):\n",
    "            arr[p+i], arr[s+i] = arr[s+i], arr[p+i]\n",
    "        p += prefix_length\n",
    "        s += prefix_length\n",
    "    \n",
    "    return arr"
   ]
  },
  {
   "cell_type": "code",
   "execution_count": null,
   "id": "34fb69a9",
   "metadata": {},
   "outputs": [],
   "source": [
    "arr = ['1', '2', '3', '4', '5', '6']\n",
    "expected = ['3', '4', '5', '6', '1', '2']\n",
    "result = prefix_suffix_swap(arr)\n",
    "print(f\"Got: {result}. Expected: {expected}.\")\n",
    "\n",
    "arr = ['b', 'a', 'd', 'r', 'e', 'v', 'i', 'e', 'w']\n",
    "expected = ['r', 'e', 'v', 'i', 'e', 'w', 'b', 'a', 'd']\n",
    "result = prefix_suffix_swap(arr)\n",
    "print(f\"Got: {result}. Expected: {expected}.\")\n",
    "\n",
    "arr = ['a', 'b', 'c']\n",
    "expected = ['b', 'c', 'a']\n",
    "result = prefix_suffix_swap(arr)\n",
    "print(f\"Got: {result}. Expected: {expected}.\")\n",
    "\n",
    "arr = []\n",
    "expected = []\n",
    "result = prefix_suffix_swap(arr)\n",
    "print(f\"Got: {result}. Expected: {expected}.\")"
   ]
  }
 ],
 "metadata": {
  "kernelspec": {
   "display_name": "Python 3",
   "language": "python",
   "name": "python3"
  },
  "language_info": {
   "codemirror_mode": {
    "name": "ipython",
    "version": 3
   },
   "file_extension": ".py",
   "mimetype": "text/x-python",
   "name": "python",
   "nbconvert_exporter": "python",
   "pygments_lexer": "ipython3",
   "version": "3.10.12"
  }
 },
 "nbformat": 4,
 "nbformat_minor": 5
}
