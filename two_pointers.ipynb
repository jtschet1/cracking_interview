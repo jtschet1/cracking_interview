{
 "cells": [
  {
   "cell_type": "markdown",
   "id": "76e3d1fb",
   "metadata": {},
   "source": [
    "## Two Pointers Problem Set"
   ]
  },
  {
   "cell_type": "markdown",
   "id": "0993bf68",
   "metadata": {},
   "source": [
    "### Problem 27.1 Palindrome Check"
   ]
  },
  {
   "cell_type": "code",
   "execution_count": null,
   "id": "1b04e5f6",
   "metadata": {},
   "outputs": [],
   "source": [
    "def palindrome_check(s):\n",
    "    left = 0\n",
    "    right = len(s)-1\n",
    "    while left <= right:\n",
    "        if s[left] != s[right]:\n",
    "            return False\n",
    "        left += 1\n",
    "        right -= 1\n",
    "    return True"
   ]
  },
  {
   "cell_type": "code",
   "execution_count": null,
   "id": "779760bf",
   "metadata": {},
   "outputs": [],
   "source": [
    "s = \"level\"\n",
    "result = palindrome_check(s)\n",
    "expected = True\n",
    "print(f\"Got: {result}. Expected: {expected}\")\n",
    "\n",
    "s = \"naan\"\n",
    "result = palindrome_check(s)\n",
    "expected = True\n",
    "print(f\"Got: {result}. Expected: {expected}\")\n",
    "\n",
    "s = \"hello\"\n",
    "result = palindrome_check(s)\n",
    "expected = False\n",
    "print(f\"Got: {result}. Expected: {expected}\")\n",
    "\n",
    "s = \"helleh\"\n",
    "result = palindrome_check(s)\n",
    "expected = True\n",
    "print(f\"Got: {result}. Expected: {expected}\")\n",
    "\n",
    "s = \"aassdfffddssaa\"\n",
    "result = palindrome_check(s)\n",
    "expected = False\n",
    "print(f\"Got: {result}. Expected: {expected}\")"
   ]
  },
  {
   "cell_type": "markdown",
   "id": "184c287f",
   "metadata": {},
   "source": [
    "###  Problem 27.2 Smaller Prefixes"
   ]
  },
  {
   "cell_type": "code",
   "execution_count": null,
   "id": "ce56c47f",
   "metadata": {},
   "outputs": [],
   "source": [
    "def smaller_prefix(arr):\n",
    "    sp = 0\n",
    "    fp = 0\n",
    "    ss = 0\n",
    "    fs = 0\n",
    "    while fp < len(arr):\n",
    "        ss += arr[sp]\n",
    "        fs += arr[fp] + arr[fp+1]\n",
    "        if ss >= fs:\n",
    "            return False\n",
    "        sp += 1\n",
    "        fp += 2\n",
    "    return True"
   ]
  },
  {
   "cell_type": "code",
   "execution_count": null,
   "id": "044f402b",
   "metadata": {},
   "outputs": [],
   "source": [
    "arr1 = [1, 2, 2, -1]\n",
    "expected = True\n",
    "result = smaller_prefix(arr1)\n",
    "print(f\"Got: {result}. Expected: {expected}\")\n",
    "\n",
    "arr1 = [1, 2, -2, 1, 3, 5]\n",
    "expected = False\n",
    "result = smaller_prefix(arr1)\n",
    "print(f\"Got: {result}. Expected: {expected}\")"
   ]
  },
  {
   "cell_type": "markdown",
   "id": "ba8c7bad",
   "metadata": {},
   "source": [
    "### Problem 27.3 Array Intersection"
   ]
  },
  {
   "cell_type": "code",
   "execution_count": null,
   "id": "18dca2ac",
   "metadata": {},
   "outputs": [],
   "source": [
    "def get_intersection(arr1, arr2):\n",
    "    if len(arr1) == 0 or len(arr2) == 0:\n",
    "        return []\n",
    "    \n",
    "    result = []\n",
    "    p1 = 0\n",
    "    p2 = 0\n",
    "    while p1 < len(arr1) and p2 < len(arr2):\n",
    "        if arr1[p1] == arr2[p2]:\n",
    "            result.append(arr2[p2])\n",
    "            p1 += 1\n",
    "            p2 += 1\n",
    "        elif arr1[p1] > arr2[p2]:\n",
    "            p2 += 1\n",
    "        else:\n",
    "            p1 += 1\n",
    "    return result"
   ]
  },
  {
   "cell_type": "code",
   "execution_count": null,
   "id": "65546d10",
   "metadata": {},
   "outputs": [],
   "source": [
    "arr1 = [1, 2, 3]\n",
    "arr2 = [1, 3, 5]\n",
    "expected = [1, 3]\n",
    "result = get_intersection(arr1, arr2)\n",
    "print(f\"Got: {result}. Expected: {expected}\")\n",
    "#Explanation: 1 and 3 appear in both arrays.\n",
    "\n",
    "arr1 = [1, 1, 1]\n",
    "arr2 = [1, 1]\n",
    "expected = [1, 1]\n",
    "result = get_intersection(arr1, arr2)\n",
    "print(f\"Got: {result}. Expected: {expected}\")\n",
    "#Explanation: Two 1s appear in both arrays.\n",
    "\n",
    "arr1 = [1, 2, 2, 3]\n",
    "arr2 = []\n",
    "expected = []\n",
    "result = get_intersection(arr1, arr2)\n",
    "print(f\"Got: {result}. Expected: {expected}\")"
   ]
  },
  {
   "cell_type": "markdown",
   "id": "1fad7153",
   "metadata": {},
   "source": [
    "### Problem 27.4 Palindromic Sentence"
   ]
  },
  {
   "cell_type": "code",
   "execution_count": null,
   "id": "29530a00",
   "metadata": {},
   "outputs": [],
   "source": [
    "def is_palindromic_sentence(s: str):\n",
    "    lp = 0\n",
    "    rp = len(s)-1\n",
    "    while lp < rp:\n",
    "        if not s[lp].isalnum():\n",
    "            lp += 1\n",
    "            continue\n",
    "        if not s[rp].isalnum():\n",
    "            rp -= 1\n",
    "            continue\n",
    "        if s[lp].lower() != s[rp].lower():\n",
    "            return False\n",
    "        lp += 1\n",
    "        rp -= 1\n",
    "    return True"
   ]
  },
  {
   "cell_type": "code",
   "execution_count": null,
   "id": "8b215376",
   "metadata": {},
   "outputs": [],
   "source": [
    "s = \"Bob wondered, 'Now, Bob?'\"\n",
    "expected = True\n",
    "result = is_palindromic_sentence(s)\n",
    "print(f\"Got: {result}. Expected: {expected}\")\n",
    "\n",
    "\n",
    "s = \"race a car\"\n",
    "expected = False\n",
    "result = is_palindromic_sentence(s)\n",
    "print(f\"Got: {result}. Expected: {expected}\")\n",
    "\n",
    "s = \"rac ,].[/,].]',./xx e xx car\"\n",
    "expected = True\n",
    "result = is_palindromic_sentence(s)\n",
    "print(f\"Got: {result}. Expected: {expected}\")\n"
   ]
  },
  {
   "cell_type": "markdown",
   "id": "e80a22fd",
   "metadata": {},
   "source": [
    "### Problem 27.5 Reverse Case Match"
   ]
  },
  {
   "cell_type": "code",
   "execution_count": null,
   "id": "3e601021",
   "metadata": {},
   "outputs": [],
   "source": [
    "def reverse_case_match(s: str):\n",
    "    lp = 0\n",
    "    rp = len(s)-1\n",
    "    while lp < len(s) and rp >= 0:\n",
    "        if s[lp].isupper():\n",
    "            lp += 1\n",
    "            continue\n",
    "        if not s[rp].isupper():\n",
    "            rp -=1 \n",
    "            continue\n",
    "        if s[lp] != s[rp].lower():\n",
    "            return False\n",
    "        lp += 1\n",
    "        rp -= 1\n",
    "    return True"
   ]
  },
  {
   "cell_type": "code",
   "execution_count": null,
   "id": "a0a793ec",
   "metadata": {},
   "outputs": [],
   "source": [
    "s = \"haDrRAHd\"\n",
    "expected = True\n",
    "result = reverse_case_match(s)\n",
    "print(f\"Got: {result}. Expected: {expected}\")\n",
    "\n",
    "\n",
    "s = \"haHrARDd\"\n",
    "expected = False\n",
    "result = reverse_case_match(s)\n",
    "print(f\"Got: {result}. Expected: {expected}\")\n",
    "\n",
    "s = \"BbbB\"\n",
    "expected = True\n",
    "result = reverse_case_match(s)\n",
    "print(f\"Got: {result}. Expected: {expected}\")\n"
   ]
  }
 ],
 "metadata": {
  "kernelspec": {
   "display_name": "Python 3",
   "language": "python",
   "name": "python3"
  },
  "language_info": {
   "codemirror_mode": {
    "name": "ipython",
    "version": 3
   },
   "file_extension": ".py",
   "mimetype": "text/x-python",
   "name": "python",
   "nbconvert_exporter": "python",
   "pygments_lexer": "ipython3",
   "version": "3.10.12"
  }
 },
 "nbformat": 4,
 "nbformat_minor": 5
}
