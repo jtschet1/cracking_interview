{
 "cells": [
  {
   "cell_type": "markdown",
   "id": "76e3d1fb",
   "metadata": {},
   "source": [
    "## Two Pointers Problem Set"
   ]
  },
  {
   "cell_type": "markdown",
   "id": "0993bf68",
   "metadata": {},
   "source": [
    "### Problem 27.1 Palindrom Check"
   ]
  }
 ],
 "metadata": {
  "language_info": {
   "name": "python"
  }
 },
 "nbformat": 4,
 "nbformat_minor": 5
}
