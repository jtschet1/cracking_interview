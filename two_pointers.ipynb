{
 "cells": [
  {
   "cell_type": "markdown",
   "id": "76e3d1fb",
   "metadata": {},
   "source": [
    "## Two Pointers Problem Set"
   ]
  },
  {
   "cell_type": "markdown",
   "id": "0993bf68",
   "metadata": {},
   "source": [
    "### Problem 27.1 Palindrome Check"
   ]
  },
  {
   "cell_type": "code",
   "execution_count": null,
   "id": "1b04e5f6",
   "metadata": {},
   "outputs": [],
   "source": [
    "def palindrome_check(s):\n",
    "    left = 0\n",
    "    right = len(s)-1\n",
    "    while left <= right:\n",
    "        if s[left] != s[right]:\n",
    "            return False\n",
    "        left += 1\n",
    "        right -= 1\n",
    "    return True"
   ]
  },
  {
   "cell_type": "code",
   "execution_count": null,
   "id": "779760bf",
   "metadata": {},
   "outputs": [],
   "source": [
    "s = \"level\"\n",
    "result = palindrome_check(s)\n",
    "expected = True\n",
    "print(f\"Got: {result}. Expected: {expected}\")\n",
    "\n",
    "s = \"naan\"\n",
    "result = palindrome_check(s)\n",
    "expected = True\n",
    "print(f\"Got: {result}. Expected: {expected}\")\n",
    "\n",
    "s = \"hello\"\n",
    "result = palindrome_check(s)\n",
    "expected = False\n",
    "print(f\"Got: {result}. Expected: {expected}\")\n",
    "\n",
    "s = \"helleh\"\n",
    "result = palindrome_check(s)\n",
    "expected = True\n",
    "print(f\"Got: {result}. Expected: {expected}\")\n",
    "\n",
    "s = \"aassdfffddssaa\"\n",
    "result = palindrome_check(s)\n",
    "expected = False\n",
    "print(f\"Got: {result}. Expected: {expected}\")"
   ]
  }
 ],
 "metadata": {
  "kernelspec": {
   "display_name": "Python 3",
   "language": "python",
   "name": "python3"
  },
  "language_info": {
   "codemirror_mode": {
    "name": "ipython",
    "version": 3
   },
   "file_extension": ".py",
   "mimetype": "text/x-python",
   "name": "python",
   "nbconvert_exporter": "python",
   "pygments_lexer": "ipython3",
   "version": "3.10.12"
  }
 },
 "nbformat": 4,
 "nbformat_minor": 5
}
