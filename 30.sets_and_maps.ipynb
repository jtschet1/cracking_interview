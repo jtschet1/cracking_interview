{
 "cells": [
  {
   "cell_type": "markdown",
   "id": "926c7a0c",
   "metadata": {},
   "source": [
    "### Problem 30.1 Account Sharing Detection"
   ]
  },
  {
   "cell_type": "code",
   "execution_count": 11,
   "id": "48b7d1cc",
   "metadata": {},
   "outputs": [],
   "source": [
    "def shared_account(connections):\n",
    "    usernames = set()\n",
    "    for ip, username in connections:\n",
    "        if username in usernames:\n",
    "            return ip\n",
    "        usernames.add(username)\n",
    "    return \"\""
   ]
  },
  {
   "cell_type": "code",
   "execution_count": 12,
   "id": "ffeb1ae5",
   "metadata": {},
   "outputs": [
    {
     "name": "stdout",
     "output_type": "stream",
     "text": [
      "False. Got: 292.0.2.5. Expected 203.0.113.10\n",
      "False. Got: 111.0.0.1. Expected 111.0.0.0\n",
      "True. Got: . Expected \n"
     ]
    }
   ],
   "source": [
    "connections = [(\"203.0.113.10\", \"mike\"), (\"298.51.100.25\", \"bob\"),\n",
    "(\"292.0.2.5\", \"mike\"), (\"203.0.113.15\", \"bob2\")]\n",
    "expected = \"203.0.113.10\"\n",
    "result = shared_account(connections)\n",
    "print(f\"{result==expected}. Got: {result}. Expected {expected}\")\n",
    "\n",
    "connections = [(\"111.0.0.0\", \"mike\"), (\"111.0.0.1\", \"mike\"),\n",
    "(\"111.0.0.2\", \"bob\"), (\"111.0.0.3\", \"bob\")]\n",
    "expected = \"111.0.0.0\"\n",
    "result = shared_account(connections)\n",
    "print(f\"{result==expected}. Got: {result}. Expected {expected}\")\n",
    "\n",
    "connections = [(\"111.0.0.0\", \"mike\"), (\"111.0.0.1\", \"mike2\"),\n",
    "(\"111.0.0.2\", \"mike3\"), (\"111.0.0.3\", \"mike4\")]\n",
    "expected = \"\"\n",
    "result = shared_account(connections)\n",
    "print(f\"{result==expected}. Got: {result}. Expected {expected}\")"
   ]
  },
  {
   "cell_type": "markdown",
   "id": "b388b3b3",
   "metadata": {},
   "source": [
    "### Problem 30.2 Most shared account"
   ]
  },
  {
   "cell_type": "code",
   "execution_count": 20,
   "id": "31af2e38",
   "metadata": {},
   "outputs": [],
   "source": [
    "def most_shared_account(connections):\n",
    "    users = {}\n",
    "    for ip, username in connections:\n",
    "        if username not in users:\n",
    "            users[username] = 0\n",
    "        users[username] += 1\n",
    "    most_shared = None\n",
    "    for username, count in users.items():\n",
    "        if not most_shared or count > users[most_shared]:\n",
    "            most_shared = username\n",
    "    return most_shared"
   ]
  },
  {
   "cell_type": "code",
   "execution_count": 21,
   "id": "7cab4661",
   "metadata": {},
   "outputs": [
    {
     "name": "stdout",
     "output_type": "stream",
     "text": [
      "True. Got: mike. Expected mike\n",
      "True. Got: alice. Expected alice\n",
      "True. Got: None. Expected None\n"
     ]
    }
   ],
   "source": [
    "connections = [(\"203.0.113.10\", \"mike\"), (\"208.51.100.25\", \"bob\"),\n",
    "(\"202.0.2.5\", \"mike\"), (\"203.0.113.15\", \"bob2\")]\n",
    "expected = \"mike\"\n",
    "result = most_shared_account(connections)\n",
    "print(f\"{result==expected}. Got: {result}. Expected {expected}\")\n",
    "\n",
    "connections = [(\"1.1.1.1\", \"alice\"), (\"1.1.1.2\", \"bob\"),\n",
    "(\"1.1.1.3\", \"alice\"), (\"1.1.1.4\", \"bob\")]\n",
    "expected = \"alice\"\n",
    "result = most_shared_account(connections)\n",
    "print(f\"{result==expected}. Got: {result}. Expected {expected}\")\n",
    "\n",
    "connections = []\n",
    "expected = None\n",
    "result = most_shared_account(connections)\n",
    "print(f\"{result==expected}. Got: {result}. Expected {expected}\")"
   ]
  },
  {
   "cell_type": "markdown",
   "id": "ce284fd8",
   "metadata": {},
   "source": [
    "### Problem 30.3 Most Frequent Octet"
   ]
  },
  {
   "cell_type": "code",
   "execution_count": 36,
   "id": "e1f762a5",
   "metadata": {},
   "outputs": [],
   "source": [
    "def most_frequent_octet(ips):\n",
    "    octet_counts = dict()\n",
    "    for ip in ips:\n",
    "        first = ip.split(\".\")[0]\n",
    "        # print(f\"First: {first}\")\n",
    "        if first not in octet_counts:\n",
    "            octet_counts[first] = 0\n",
    "        octet_counts[first] += 1\n",
    "\n",
    "    most_freq = None\n",
    "    for octet, count in octet_counts.items():\n",
    "        if not most_freq or count > octet_counts[most_freq]:\n",
    "            most_freq = octet\n",
    "    return most_freq"
   ]
  },
  {
   "cell_type": "code",
   "execution_count": null,
   "id": "9f882059",
   "metadata": {},
   "outputs": [
    {
     "name": "stdout",
     "output_type": "stream",
     "text": [
      "True. Got: 203. Expected 203\n",
      "True. Got: 10. Expected 10\n",
      "True. Got: None. Expected None\n"
     ]
    }
   ],
   "source": [
    "ips = [\"203.0.113.10\", \"208.51.100.5\", \"202.0.2.5\", \"203.0.113.5\"]\n",
    "expected = \"203\"\n",
    "result = most_frequent_octet(ips)\n",
    "print(f\"{result==expected}. Got: {result}. Expected {expected}\")\n",
    "\n",
    "ips = [\"10.0.0.1\", \"10.0.0.2\", \"192.168.1.1\"]\n",
    "expected = \"10\"\n",
    "result = most_frequent_octet(ips)\n",
    "print(f\"{result==expected}. Got: {result}. Expected {expected}\")\n",
    "\n",
    "ips = []\n",
    "expected = None\n",
    "result = most_frequent_octet(ips)\n",
    "print(f\"{result==expected}. Got: {result}. Expected {expected}\")"
   ]
  },
  {
   "cell_type": "markdown",
   "id": "3cbddc84",
   "metadata": {},
   "source": [
    "### Problem 30.4 Multi-Account Cheating"
   ]
  },
  {
   "cell_type": "code",
   "execution_count": 8,
   "id": "792bdeb4",
   "metadata": {},
   "outputs": [],
   "source": [
    "def multi_account_cheating(users):\n",
    "    connections = set()\n",
    "    for _, ips in users:\n",
    "        ips = tuple(sorted(ips))\n",
    "        if ips in connections:\n",
    "            return True\n",
    "        connections.add(ips)\n",
    "    return False"
   ]
  },
  {
   "cell_type": "code",
   "execution_count": 9,
   "id": "d5320338",
   "metadata": {},
   "outputs": [
    {
     "name": "stdout",
     "output_type": "stream",
     "text": [
      "True. Got: True. Expected True\n",
      "True. Got: False. Expected False\n",
      "True. Got: False. Expected False\n"
     ]
    }
   ],
   "source": [
    "users = [\n",
    "  (\"mike\", [\"203.0.3.10\", \"208.51.0.5\", \"52.0.2.5\"]),\n",
    "  (\"bob\", [\"111.0.0.10\", \"222.0.0.5\", \"222.0.0.8\"]),\n",
    "  (\"bob2\", [\"222.0.0.5\", \"222.0.0.8\", \"111.0.0.10\"])\n",
    "]\n",
    "expected = True\n",
    "result = multi_account_cheating(users)\n",
    "print(f\"{result==expected}. Got: {result}. Expected {expected}\")\n",
    "\n",
    "users = [\n",
    "  (\"alice\", [\"1.1.1.1\"]),\n",
    "  (\"bob\", [\"2.2.2.2\"])\n",
    "]\n",
    "expected = False\n",
    "result = multi_account_cheating(users)\n",
    "print(f\"{result==expected}. Got: {result}. Expected {expected}\")\n",
    "\n",
    "users = []\n",
    "expected = False\n",
    "result = multi_account_cheating(users)\n",
    "print(f\"{result==expected}. Got: {result}. Expected {expected}\")"
   ]
  },
  {
   "cell_type": "markdown",
   "id": "6f1bd3ae",
   "metadata": {},
   "source": [
    "### Problem 30.5 Domain Resolver"
   ]
  },
  {
   "cell_type": "code",
   "execution_count": 43,
   "id": "5f685295",
   "metadata": {},
   "outputs": [],
   "source": [
    "'''\n",
    "ips\n",
    "    ip1  =  dictionary  of str:dict\n",
    "        domain1.1  =  dictionary of dict:set\n",
    "            subdomain1.1.1\n",
    "            subdomain1.1.2\n",
    "            subdomain1.1.3\n",
    "        domain1.2\n",
    "        domain1.3\n",
    "    ip2\n",
    "    ip3\n",
    "\n",
    "    \n",
    "\n",
    "ips[ip] = \n",
    "'''\n",
    "\n",
    "class DomainResolver():\n",
    "    def __init__(self):\n",
    "        self.ips = dict() # ip to set of domains\n",
    "        self.domains = dict() # domain to set of subdomains\n",
    "    \n",
    "    def register_domain(self, ip, domain):\n",
    "        if ip not in self.ips:\n",
    "            self.ips[ip] = set()\n",
    "        self.ips[ip].add(domain)\n",
    "    \n",
    "    def register_subdomain(self, domain, subdomain):\n",
    "        if domain not in self.domains:\n",
    "            self.domains[domain] = set()\n",
    "        self.domains[domain].add(subdomain)\n",
    "\n",
    "    def has_subdomain(self, ip, domain, subdomain):\n",
    "        result = False\n",
    "        if ip in self.ips and domain in self.domains:\n",
    "            result = domain in self.ips[ip] and subdomain in self.domains[domain]\n",
    "        print(result)"
   ]
  },
  {
   "cell_type": "code",
   "execution_count": 44,
   "id": "f5bd465f",
   "metadata": {},
   "outputs": [
    {
     "name": "stdout",
     "output_type": "stream",
     "text": [
      "True\n",
      "False\n",
      "False\n",
      "False\n"
     ]
    }
   ],
   "source": [
    "resolver = DomainResolver()\n",
    "resolver.register_domain(\"192.168.1.1\", \"example.com\")\n",
    "resolver.register_domain(\"192.168.1.1\", \"example.org\")\n",
    "resolver.register_domain(\"192.168.1.2\", \"domain.com\")\n",
    "resolver.register_subdomain(\"example.com\", \"a\")\n",
    "resolver.register_subdomain(\"example.com\", \"b\")\n",
    "resolver.has_subdomain(\"192.168.1.1\", \"example.com\", \"a\")  # Returns True\n",
    "resolver.has_subdomain(\"192.168.1.1\", \"example.com\", \"c\")  # Returns False\n",
    "resolver.has_subdomain(\"127.0.0.1\", \"example.com\", \"a\")    # Returns False\n",
    "resolver.has_subdomain(\"192.168.1.1\", \"example.org\", \"a\")  # Returns False"
   ]
  },
  {
   "cell_type": "markdown",
   "id": "3a0d4110",
   "metadata": {},
   "source": [
    "### Problem 30.6 Find All Squares"
   ]
  },
  {
   "cell_type": "code",
   "execution_count": 66,
   "id": "4c7fdbbf",
   "metadata": {},
   "outputs": [],
   "source": [
    "import math\n",
    "\n",
    "def find_all_squares(arr):\n",
    "    indexes = {}\n",
    "    for i, num in enumerate(arr):\n",
    "        indexes[num] = i\n",
    "\n",
    "    result = []\n",
    "    for i, num in enumerate(arr):\n",
    "        square = num**2\n",
    "        if square in indexes:\n",
    "            result.append([i, indexes[square]])\n",
    "            \n",
    "    return result"
   ]
  },
  {
   "cell_type": "code",
   "execution_count": 67,
   "id": "8ccc6992",
   "metadata": {},
   "outputs": [
    {
     "name": "stdout",
     "output_type": "stream",
     "text": [
      "True. Got: [[1, 3], [3, 6], [5, 0]]. Expected [[1, 3], [3, 6], [5, 0]]\n",
      "True. Got: [[0, 0]]. Expected [[0, 0]]\n"
     ]
    }
   ],
   "source": [
    "arr = [4, 10, 3, 100, 5, 2, 10000]\n",
    "expected = sorted([[5, 0], [1, 3], [3, 6]])\n",
    "result = sorted(find_all_squares(arr))\n",
    "print(f\"{result==expected}. Got: {result}. Expected {expected}\")\n",
    "\n",
    "arr = [1]\n",
    "expected = [[0,0]]\n",
    "result = find_all_squares(arr)\n",
    "print(f\"{result==expected}. Got: {result}. Expected {expected}\")"
   ]
  }
 ],
 "metadata": {
  "kernelspec": {
   "display_name": "3.12.10",
   "language": "python",
   "name": "python3"
  },
  "language_info": {
   "codemirror_mode": {
    "name": "ipython",
    "version": 3
   },
   "file_extension": ".py",
   "mimetype": "text/x-python",
   "name": "python",
   "nbconvert_exporter": "python",
   "pygments_lexer": "ipython3",
   "version": "3.12.10"
  }
 },
 "nbformat": 4,
 "nbformat_minor": 5
}
