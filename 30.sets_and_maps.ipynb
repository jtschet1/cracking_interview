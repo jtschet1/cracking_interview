{
 "cells": [
  {
   "cell_type": "markdown",
   "id": "926c7a0c",
   "metadata": {},
   "source": [
    "### Problem 30.1 Account Sharing Detection"
   ]
  },
  {
   "cell_type": "code",
   "execution_count": 11,
   "id": "48b7d1cc",
   "metadata": {},
   "outputs": [],
   "source": [
    "def shared_account(connections):\n",
    "    usernames = set()\n",
    "    for ip, username in connections:\n",
    "        if username in usernames:\n",
    "            return ip\n",
    "        usernames.add(username)\n",
    "    return \"\""
   ]
  },
  {
   "cell_type": "code",
   "execution_count": 12,
   "id": "ffeb1ae5",
   "metadata": {},
   "outputs": [
    {
     "name": "stdout",
     "output_type": "stream",
     "text": [
      "False. Got: 292.0.2.5. Expected 203.0.113.10\n",
      "False. Got: 111.0.0.1. Expected 111.0.0.0\n",
      "True. Got: . Expected \n"
     ]
    }
   ],
   "source": [
    "connections = [(\"203.0.113.10\", \"mike\"), (\"298.51.100.25\", \"bob\"),\n",
    "(\"292.0.2.5\", \"mike\"), (\"203.0.113.15\", \"bob2\")]\n",
    "expected = \"203.0.113.10\"\n",
    "result = shared_account(connections)\n",
    "print(f\"{result==expected}. Got: {result}. Expected {expected}\")\n",
    "\n",
    "connections = [(\"111.0.0.0\", \"mike\"), (\"111.0.0.1\", \"mike\"),\n",
    "(\"111.0.0.2\", \"bob\"), (\"111.0.0.3\", \"bob\")]\n",
    "expected = \"111.0.0.0\"\n",
    "result = shared_account(connections)\n",
    "print(f\"{result==expected}. Got: {result}. Expected {expected}\")\n",
    "\n",
    "connections = [(\"111.0.0.0\", \"mike\"), (\"111.0.0.1\", \"mike2\"),\n",
    "(\"111.0.0.2\", \"mike3\"), (\"111.0.0.3\", \"mike4\")]\n",
    "expected = \"\"\n",
    "result = shared_account(connections)\n",
    "print(f\"{result==expected}. Got: {result}. Expected {expected}\")"
   ]
  },
  {
   "cell_type": "markdown",
   "id": "b388b3b3",
   "metadata": {},
   "source": [
    "### Problem 30.2 Most shared account"
   ]
  },
  {
   "cell_type": "code",
   "execution_count": 20,
   "id": "31af2e38",
   "metadata": {},
   "outputs": [],
   "source": [
    "def most_shared_account(connections):\n",
    "    users = {}\n",
    "    for ip, username in connections:\n",
    "        if username not in users:\n",
    "            users[username] = 0\n",
    "        users[username] += 1\n",
    "    most_shared = None\n",
    "    for username, count in users.items():\n",
    "        if not most_shared or count > users[most_shared]:\n",
    "            most_shared = username\n",
    "    return most_shared"
   ]
  },
  {
   "cell_type": "code",
   "execution_count": 21,
   "id": "7cab4661",
   "metadata": {},
   "outputs": [
    {
     "name": "stdout",
     "output_type": "stream",
     "text": [
      "True. Got: mike. Expected mike\n",
      "True. Got: alice. Expected alice\n",
      "True. Got: None. Expected None\n"
     ]
    }
   ],
   "source": [
    "connections = [(\"203.0.113.10\", \"mike\"), (\"208.51.100.25\", \"bob\"),\n",
    "(\"202.0.2.5\", \"mike\"), (\"203.0.113.15\", \"bob2\")]\n",
    "expected = \"mike\"\n",
    "result = most_shared_account(connections)\n",
    "print(f\"{result==expected}. Got: {result}. Expected {expected}\")\n",
    "\n",
    "connections = [(\"1.1.1.1\", \"alice\"), (\"1.1.1.2\", \"bob\"),\n",
    "(\"1.1.1.3\", \"alice\"), (\"1.1.1.4\", \"bob\")]\n",
    "expected = \"alice\"\n",
    "result = most_shared_account(connections)\n",
    "print(f\"{result==expected}. Got: {result}. Expected {expected}\")\n",
    "\n",
    "connections = []\n",
    "expected = None\n",
    "result = most_shared_account(connections)\n",
    "print(f\"{result==expected}. Got: {result}. Expected {expected}\")"
   ]
  },
  {
   "cell_type": "markdown",
   "id": "ce284fd8",
   "metadata": {},
   "source": [
    "### Problem 30.3 Most Frequent Octet"
   ]
  },
  {
   "cell_type": "code",
   "execution_count": 36,
   "id": "e1f762a5",
   "metadata": {},
   "outputs": [],
   "source": [
    "def most_frequent_octet(ips):\n",
    "    octet_counts = dict()\n",
    "    for ip in ips:\n",
    "        first = ip.split(\".\")[0]\n",
    "        # print(f\"First: {first}\")\n",
    "        if first not in octet_counts:\n",
    "            octet_counts[first] = 0\n",
    "        octet_counts[first] += 1\n",
    "\n",
    "    most_freq = None\n",
    "    for octet, count in octet_counts.items():\n",
    "        if not most_freq or count > octet_counts[most_freq]:\n",
    "            most_freq = octet\n",
    "    return most_freq"
   ]
  },
  {
   "cell_type": "code",
   "execution_count": 37,
   "id": "9f882059",
   "metadata": {},
   "outputs": [
    {
     "name": "stdout",
     "output_type": "stream",
     "text": [
      "True. Got: 203. Expected 203\n",
      "True. Got: 10. Expected 10\n",
      "True. Got: None. Expected None\n"
     ]
    }
   ],
   "source": [
    "ips = [\"203.0.113.10\", \"208.51.100.5\", \"202.0.2.5\", \"203.0.113.5\"]\n",
    "expected = \"203\"\n",
    "result = most_frequent_octet(ips)\n",
    "print(f\"{result==expected}. Got: {result}. Expected {expected}\")\n",
    "\n",
    "ips = [\"10.0.0.1\", \"10.0.0.2\", \"192.168.1.1\"]\n",
    "expected = \"10\"\n",
    "result = most_frequent_octet(ips)\n",
    "print(f\"{result==expected}. Got: {result}. Expected {expected}\")\n",
    "\n",
    "ips = []\n",
    "expected = None\n",
    "result = most_frequent_octet(ips)\n",
    "print(f\"{result==expected}. Got: {result}. Expected {expected}\")"
   ]
  }
 ],
 "metadata": {
  "kernelspec": {
   "display_name": "3.12.10",
   "language": "python",
   "name": "python3"
  },
  "language_info": {
   "codemirror_mode": {
    "name": "ipython",
    "version": 3
   },
   "file_extension": ".py",
   "mimetype": "text/x-python",
   "name": "python",
   "nbconvert_exporter": "python",
   "pygments_lexer": "ipython3",
   "version": "3.12.10"
  }
 },
 "nbformat": 4,
 "nbformat_minor": 5
}
