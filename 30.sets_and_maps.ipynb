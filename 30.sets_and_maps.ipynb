{
 "cells": [
  {
   "cell_type": "markdown",
   "id": "926c7a0c",
   "metadata": {},
   "source": [
    "### Problem 30.1 Account Sharing Detection"
   ]
  },
  {
   "cell_type": "code",
   "execution_count": 11,
   "id": "48b7d1cc",
   "metadata": {},
   "outputs": [],
   "source": [
    "def shared_account(connections):\n",
    "    usernames = set()\n",
    "    for ip, username in connections:\n",
    "        if username in usernames:\n",
    "            return ip\n",
    "        usernames.add(username)\n",
    "    return \"\""
   ]
  },
  {
   "cell_type": "code",
   "execution_count": 12,
   "id": "ffeb1ae5",
   "metadata": {},
   "outputs": [
    {
     "name": "stdout",
     "output_type": "stream",
     "text": [
      "False. Got: 292.0.2.5. Expected 203.0.113.10\n",
      "False. Got: 111.0.0.1. Expected 111.0.0.0\n",
      "True. Got: . Expected \n"
     ]
    }
   ],
   "source": [
    "connections = [(\"203.0.113.10\", \"mike\"), (\"298.51.100.25\", \"bob\"),\n",
    "(\"292.0.2.5\", \"mike\"), (\"203.0.113.15\", \"bob2\")]\n",
    "expected = \"203.0.113.10\"\n",
    "result = shared_account(connections)\n",
    "print(f\"{result==expected}. Got: {result}. Expected {expected}\")\n",
    "\n",
    "connections = [(\"111.0.0.0\", \"mike\"), (\"111.0.0.1\", \"mike\"),\n",
    "(\"111.0.0.2\", \"bob\"), (\"111.0.0.3\", \"bob\")]\n",
    "expected = \"111.0.0.0\"\n",
    "result = shared_account(connections)\n",
    "print(f\"{result==expected}. Got: {result}. Expected {expected}\")\n",
    "\n",
    "connections = [(\"111.0.0.0\", \"mike\"), (\"111.0.0.1\", \"mike2\"),\n",
    "(\"111.0.0.2\", \"mike3\"), (\"111.0.0.3\", \"mike4\")]\n",
    "expected = \"\"\n",
    "result = shared_account(connections)\n",
    "print(f\"{result==expected}. Got: {result}. Expected {expected}\")"
   ]
  }
 ],
 "metadata": {
  "kernelspec": {
   "display_name": "3.12.10",
   "language": "python",
   "name": "python3"
  },
  "language_info": {
   "codemirror_mode": {
    "name": "ipython",
    "version": 3
   },
   "file_extension": ".py",
   "mimetype": "text/x-python",
   "name": "python",
   "nbconvert_exporter": "python",
   "pygments_lexer": "ipython3",
   "version": "3.12.10"
  }
 },
 "nbformat": 4,
 "nbformat_minor": 5
}
