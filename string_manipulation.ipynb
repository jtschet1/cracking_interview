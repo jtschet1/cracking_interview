{
 "cells": [
  {
   "cell_type": "markdown",
   "id": "50c55809",
   "metadata": {},
   "source": [
    "**Reusable Idea: Building Strings with Dynamic Arrays**"
   ]
  },
  {
   "cell_type": "markdown",
   "id": "eabd66f5",
   "metadata": {},
   "source": [
    "## String Manipulation Problem Set"
   ]
  },
  {
   "cell_type": "markdown",
   "id": "fc42d5a7",
   "metadata": {},
   "source": [
    "### Problem 26.1 String Split"
   ]
  },
  {
   "cell_type": "code",
   "execution_count": 56,
   "id": "0fdb11f6",
   "metadata": {},
   "outputs": [],
   "source": [
    "def split_string(s, c):\n",
    "    if not s:\n",
    "        return []\n",
    "\n",
    "    response = []\n",
    "    current_word = []\n",
    "    i = 0\n",
    "    while i < len(s):\n",
    "        if s[i] != c:\n",
    "            current_word.append(s[i])\n",
    "        else:\n",
    "            response.append(''.join(current_word))\n",
    "            current_word = []\n",
    "        i += 1\n",
    "    response.append(''.join(current_word))\n",
    "    return response\n",
    "\n"
   ]
  },
  {
   "cell_type": "code",
   "execution_count": 57,
   "id": "0960adb9",
   "metadata": {},
   "outputs": [
    {
     "name": "stdout",
     "output_type": "stream",
     "text": [
      "Got: ['split', 'by', 'space'].\t\t\t\t Expected: ['split', 'by', 'space'].\n",
      "Got: ['b', '', 'k', '', 'p', 'r n', '', 'd', 'd'].\t Expected: ['b', '', 'k', '', 'p', 'r n', '', 'd', 'd'].\n",
      "Got: ['', 'home', '.', '..', '', 'Documents', ''].\t Expected: ['', 'home', '.', '..', '', 'Documents', ''].\n",
      "Got: [].\t\t\t\t\t\t Expected: [].\n"
     ]
    }
   ],
   "source": [
    "s = \"split by space\"\n",
    "c = ' '\n",
    "expected = [\"split\", \"by\", \"space\"]\n",
    "print(f\"Got: {split_string(s, c)}.\\t\\t\\t\\t Expected: {expected}.\")\n",
    "\n",
    "s = \"beekeeper needed\"\n",
    "c = 'e'\n",
    "expected = [\"b\", \"\", \"k\", \"\", \"p\", \"r n\", \"\", \"d\", \"d\"]\n",
    "print(f\"Got: {split_string(s, c)}.\\t Expected: {expected}.\")\n",
    "\n",
    "s = \"/home/./..//Documents/\"\n",
    "c = '/'\n",
    "expected = [\"\", \"home\", \".\", \"..\", \"\", \"Documents\", \"\"]\n",
    "print(f\"Got: {split_string(s, c)}.\\t Expected: {expected}.\")\n",
    "\n",
    "s = \"\"\n",
    "c = '?'\n",
    "expected = []\n",
    "print(f\"Got: {split_string(s, c)}.\\t\\t\\t\\t\\t\\t Expected: {expected}.\")"
   ]
  },
  {
   "cell_type": "markdown",
   "id": "c6198b53",
   "metadata": {},
   "source": [
    "### Problem 26.2 String Join"
   ]
  },
  {
   "cell_type": "code",
   "execution_count": 58,
   "id": "07942610",
   "metadata": {},
   "outputs": [],
   "source": [
    "'''\n",
    "Example 1: arr = [\"join\", \"by\", \"space\"], s = \" \"\n",
    "Output: \"join by space\"\n",
    "\n",
    "Example 2: arr = [\"b\", \"\", \"k\", \"\", \"p\", \"r n\", \"\", \"d\", \"d!!\"], s = \"ee\"\n",
    "Output: \"beeeekeeeepeer neeeedeed!!\"\n",
    "\n",
    "Example 3: arr = [], s = \"x\"\n",
    "Output: \"\"\n",
    "'''\n",
    "\n",
    "def arr_to_string(arr):\n",
    "    for i in arr:\n",
    "        if len(i) > 1:\n",
    "            return TypeError(f\"Error: Invalid input {arr} arr_to_string() only accepts arrays of individual characters.\")\n",
    "    return ''.join(arr)\n",
    "\n",
    "def join_string(arr, s):\n",
    "    if arr == []:\n",
    "        return \"\"\n",
    "    response = []\n",
    "    for i in range(len(arr)):\n",
    "        if i != 0:\n",
    "            for c in s:\n",
    "                response.append(c)\n",
    "        for c in arr[i]:\n",
    "            response.append(c)\n",
    "    return arr_to_string(response)\n",
    "\n"
   ]
  },
  {
   "cell_type": "code",
   "execution_count": 59,
   "id": "3aca8a62",
   "metadata": {},
   "outputs": [
    {
     "name": "stdout",
     "output_type": "stream",
     "text": [
      "Got: join by space\t\t Expected: join by space\n",
      "Got: beeeekeeeepeer neeeedeed!!\t Expected: beeeekeeeepeer neeeedeed!!\n",
      "Got: \t\t\t\t Expected: \n"
     ]
    }
   ],
   "source": [
    "arr = [\"join\", \"by\", \"space\"]\n",
    "s = \" \"\n",
    "expected = \"join by space\"\n",
    "print(f\"Got: {join_string(arr, s)}\\t\\t Expected: {expected}\")\n",
    "\n",
    "arr = [\"b\", \"\", \"k\", \"\", \"p\", \"r n\", \"\", \"d\", \"d!!\"]\n",
    "s = \"ee\"\n",
    "expected = \"beeeekeeeepeer neeeedeed!!\"\n",
    "print(f\"Got: {join_string(arr, s)}\\t Expected: {expected}\")\n",
    "\n",
    "arr = []\n",
    "s = \"x\"\n",
    "expected = \"\"\n",
    "print(f\"Got: {join_string(arr, s)}\\t\\t\\t\\t Expected: {expected}\")"
   ]
  }
 ],
 "metadata": {
  "kernelspec": {
   "display_name": "Python 3",
   "language": "python",
   "name": "python3"
  },
  "language_info": {
   "codemirror_mode": {
    "name": "ipython",
    "version": 3
   },
   "file_extension": ".py",
   "mimetype": "text/x-python",
   "name": "python",
   "nbconvert_exporter": "python",
   "pygments_lexer": "ipython3",
   "version": "3.10.12"
  }
 },
 "nbformat": 4,
 "nbformat_minor": 5
}
