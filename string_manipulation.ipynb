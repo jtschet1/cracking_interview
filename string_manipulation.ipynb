{
 "cells": [
  {
   "cell_type": "markdown",
   "id": "50c55809",
   "metadata": {},
   "source": [
    "**Reusable Idea: Building Strings with Dynamic Arrays**"
   ]
  },
  {
   "cell_type": "markdown",
   "id": "eabd66f5",
   "metadata": {},
   "source": [
    "## String Manipulation Problem Set"
   ]
  },
  {
   "cell_type": "markdown",
   "id": "fc42d5a7",
   "metadata": {},
   "source": [
    "### Problem 26.1 String Split"
   ]
  },
  {
   "cell_type": "code",
   "execution_count": null,
   "id": "0fdb11f6",
   "metadata": {},
   "outputs": [],
   "source": [
    "'''\n",
    "Example 1: s = \"split by space\", c = ' '\n",
    "Output: [\"split\", \"by\", \"space\"]\n",
    "\n",
    "Example 2: s = \"beekeeper needed\", c = 'e'\n",
    "Output: [\"b\", \"\", \"k\", \"\", \"p\", \"r n\", \"\", \"d\", \"d\"]\n",
    "\n",
    "Example 3: s = \"/home/./..//Documents/\", c = '/'\n",
    "Output: [\"\", \"home\", \".\", \"..\", \"\", \"Documents\", \"\"]\n",
    "\n",
    "Example 4: s = \"\", c = '?'\n",
    "Output: []\n",
    "'''\n",
    "\n",
    "def split_string(s, c):\n",
    "    if not s:\n",
    "        return []\n",
    "\n",
    "    response = []\n",
    "    current_word = []\n",
    "    i = 0\n",
    "    while i < len(s):\n",
    "        if s[i] != c:\n",
    "            current_word.append(s[i])\n",
    "        else:\n",
    "            response.append(''.join(current_word))\n",
    "            current_word = []\n",
    "        i += 1\n",
    "    response.append(''.join(current_word))\n",
    "    return response\n",
    "\n"
   ]
  },
  {
   "cell_type": "code",
   "execution_count": 13,
   "id": "0960adb9",
   "metadata": {},
   "outputs": [
    {
     "name": "stdout",
     "output_type": "stream",
     "text": [
      "['split', 'by', 'space']\n",
      "['b', '', 'k', '', 'p', 'r n', '', 'd', 'd']\n",
      "['', 'home', '.', '..', '', 'Documents', '']\n",
      "[]\n"
     ]
    }
   ],
   "source": [
    "s = \"split by space\"\n",
    "c = ' '\n",
    "# [\"split\", \"by\", \"space\"]\n",
    "print(split_string(s, c))\n",
    "\n",
    "s = \"beekeeper needed\"\n",
    "c = 'e'\n",
    "# [\"b\", \"\", \"k\", \"\", \"p\", \"r n\", \"\", \"d\", \"d\"]\n",
    "print(split_string(s, c))\n",
    "\n",
    "s = \"/home/./..//Documents/\"\n",
    "c = '/'\n",
    "# [\"\", \"home\", \".\", \"..\", \"\", \"Documents\", \"\"]\n",
    "print(split_string(s, c))\n",
    "\n",
    "s = \"\"\n",
    "c = '?'\n",
    "# []\n",
    "print(split_string(s, c))"
   ]
  }
 ],
 "metadata": {
  "kernelspec": {
   "display_name": "Python 3",
   "language": "python",
   "name": "python3"
  },
  "language_info": {
   "codemirror_mode": {
    "name": "ipython",
    "version": 3
   },
   "file_extension": ".py",
   "mimetype": "text/x-python",
   "name": "python",
   "nbconvert_exporter": "python",
   "pygments_lexer": "ipython3",
   "version": "3.10.12"
  }
 },
 "nbformat": 4,
 "nbformat_minor": 5
}
